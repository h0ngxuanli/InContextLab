{
 "cells": [
  {
   "cell_type": "code",
   "execution_count": 1,
   "metadata": {},
   "outputs": [
    {
     "name": "stderr",
     "output_type": "stream",
     "text": [
      "/Users/lihongxuan/miniconda3/envs/icl/lib/python3.10/site-packages/tqdm/auto.py:21: TqdmWarning: IProgress not found. Please update jupyter and ipywidgets. See https://ipywidgets.readthedocs.io/en/stable/user_install.html\n",
      "  from .autonotebook import tqdm as notebook_tqdm\n"
     ]
    }
   ],
   "source": [
    "import torch\n",
    "import numpy as np\n",
    "import matplotlib.pyplot as plt\n",
    "from transformers import AutoModelForCausalLM, AutoTokenizer\n",
    "from datasets import load_dataset\n",
    "from typing import List, Dict, Tuple\n",
    "\n",
    "class SaliencyAnalyzer:\n",
    "    \"\"\"Analyzes information flow through saliency scores.\"\"\"\n",
    "    \n",
    "    def compute_saliency_scores(\n",
    "        self, attention_matrices: List[torch.Tensor], loss: torch.Tensor\n",
    "    ) -> List[torch.Tensor]:\n",
    "        \"\"\"\n",
    "        Computes saliency scores: Il(i,j) = |∑_h A_{h,l}(i,j) * ∂L/∂A_{h,l}(i,j)|\n",
    "        \"\"\"\n",
    "        # Clone attention matrices and enable gradients\n",
    "        attention_matrices = [A.clone().detach().requires_grad_(True) for A in attention_matrices]\n",
    "        \n",
    "        # Include attention in the loss computation graph\n",
    "        combined_matrix = sum([A.sum() for A in attention_matrices])\n",
    "        loss = loss + combined_matrix\n",
    "\n",
    "        # Backpropagate loss\n",
    "        loss.backward(retain_graph=True)\n",
    "        \n",
    "        # Compute saliency scores\n",
    "        saliency_scores = []\n",
    "        for A in attention_matrices:\n",
    "            grad = A.grad\n",
    "            if grad is None:\n",
    "                raise ValueError(\"Gradient not computed for attention matrix. Ensure it is part of the loss computation.\")\n",
    "            saliency = torch.abs(A * grad)\n",
    "            saliency_scores.append(saliency)\n",
    "        return saliency_scores\n",
    "    \n",
    "    \n",
    "    def compute_flow_metrics(\n",
    "        self,\n",
    "        saliency_scores: List[torch.Tensor],\n",
    "        class_positions: torch.Tensor,\n",
    "        target_position: int,\n",
    "        normalize: bool = True\n",
    "    ) -> Dict[str, List[float]]:\n",
    "        \"\"\"\n",
    "        Computes S_wp, S_pq, S_ww flow metrics using the saliency scores.\n",
    "        Each returned list has one value per layer.\n",
    "        \n",
    "        If normalize is True, applies min-max normalization across layers.\n",
    "        \"\"\"\n",
    "        raw_metrics = {\"S_wp\": [], \"S_pq\": [], \"S_ww\": []}\n",
    "        \n",
    "        for saliency in saliency_scores:\n",
    "            # Text-to-label flow (S_wp)\n",
    "            wp_connections = self._get_text_to_label_connections(class_positions)\n",
    "            S_wp = self._compute_average_flow(saliency, wp_connections)\n",
    "            \n",
    "            # Label-to-target flow (S_pq)\n",
    "            pq_connections = self._get_label_to_target_connections(class_positions, target_position)\n",
    "            S_pq = self._compute_average_flow(saliency, pq_connections)\n",
    "            \n",
    "            # Other information flow (S_ww)\n",
    "            ww_connections = self._get_other_connections(class_positions, target_position, saliency.shape[-1])\n",
    "            S_ww = self._compute_average_flow(saliency, ww_connections)\n",
    "            \n",
    "            raw_metrics[\"S_wp\"].append(S_wp)\n",
    "            raw_metrics[\"S_pq\"].append(S_pq)\n",
    "            raw_metrics[\"S_ww\"].append(S_ww)\n",
    "        \n",
    "        if normalize:\n",
    "            # Min-max normalization across layers for each metric\n",
    "            normalized_metrics = {}\n",
    "            for key, values in raw_metrics.items():\n",
    "                min_val, max_val = min(values), max(values)\n",
    "                if max_val > min_val:\n",
    "                    normalized_metrics[key] = [(v - min_val) / (max_val - min_val) for v in values]\n",
    "                else:\n",
    "                    normalized_metrics[key] = [0.0 for _ in values]\n",
    "            return normalized_metrics\n",
    "        else:\n",
    "            return raw_metrics\n",
    "\n",
    "    def _get_text_to_label_connections(self, class_positions: torch.Tensor) -> List[Tuple[int, int]]:\n",
    "        \"\"\"\n",
    "        Returns C_{wp} = {(p_k, j) : j < p_k}\n",
    "        \"\"\"\n",
    "        return [(p_k, j) for p_k in class_positions for j in range(p_k)]\n",
    "\n",
    "    def _get_label_to_target_connections(self, class_positions: torch.Tensor, target_position: int) -> List[Tuple[int, int]]:\n",
    "        \"\"\"\n",
    "        Returns C_{pq} = {(q, p_k)}\n",
    "        \"\"\"\n",
    "        return [(target_position, p_k) for p_k in class_positions]\n",
    "\n",
    "    def _get_other_connections(self, class_positions: torch.Tensor, target_position: int, seq_len: int) -> List[Tuple[int, int]]:\n",
    "        \"\"\"\n",
    "        Returns C_{ww} = {(i,j): j<i} - C_{wp} - C_{pq}\n",
    "        \"\"\"\n",
    "        all_pairs = [(i, j) for i in range(seq_len) for j in range(i)]\n",
    "        exclude = set(\n",
    "            self._get_text_to_label_connections(class_positions)\n",
    "            + self._get_label_to_target_connections(class_positions, target_position)\n",
    "        )\n",
    "        return list(set(all_pairs) - exclude)\n",
    "\n",
    "    def _compute_average_flow(self, saliency: torch.Tensor, connections: List[Tuple[int, int]]) -> float:\n",
    "        \"\"\"\n",
    "        Computes the average flow: sum over heads and batch, then divide by number of connections only.\n",
    "        \"\"\"\n",
    "        if not connections:\n",
    "            return 0.0\n",
    "        total = 0.0\n",
    "        for i, j in connections:\n",
    "            # saliency: [batch, heads, seq, seq]\n",
    "            # sum over batch and heads\n",
    "            total += saliency[:, :, i, j].sum().item()\n",
    "        # Divide by the number of connections (no head division)\n",
    "        return total / len(connections)\n",
    "\n",
    "\n",
    "class ICLVisualizer:\n",
    "    \"\"\"Visualization utilities for information flow.\"\"\"\n",
    "    \n",
    "    @staticmethod\n",
    "    def plot_information_flow(layers, Swp, Spq, Sww, title=\"\", save_path=None):\n",
    "        plt.figure(figsize=(10, 6))\n",
    "        plt.plot(layers, Swp, label=\"S_wp\", color=\"blue\")\n",
    "        plt.plot(layers, Spq, label=\"S_pq\", color=\"orange\")\n",
    "        plt.plot(layers, Sww, label=\"S_ww\", color=\"green\")\n",
    "        plt.xlabel(\"Layer\")\n",
    "        plt.ylabel(\"Normalized S\")\n",
    "        plt.title(title)\n",
    "        plt.legend()\n",
    "        plt.grid(alpha=0.3)\n",
    "        if save_path:\n",
    "            plt.savefig(save_path)\n",
    "        plt.show()\n",
    "\n",
    "def get_class_positions(tokenizer, input_text, labels):\n",
    "    \"\"\"\n",
    "    Attempts to find each label in the tokenized input. If not found directly,\n",
    "    tries adding a leading space to the label (common in GPT-2 tokenization).\n",
    "    \"\"\"\n",
    "    tokenized_input = tokenizer(input_text, return_tensors=\"pt\", add_special_tokens=False)\n",
    "    input_ids = tokenized_input[\"input_ids\"][0]\n",
    "\n",
    "    positions = []\n",
    "    for label in labels:\n",
    "        # Try without leading space\n",
    "        label_ids = tokenizer.encode(label, add_special_tokens=False)\n",
    "        found_position = None\n",
    "        for idx in range(len(input_ids) - len(label_ids) + 1):\n",
    "            if torch.all(input_ids[idx: idx + len(label_ids)] == torch.tensor(label_ids)):\n",
    "                found_position = idx\n",
    "                break\n",
    "        \n",
    "        # If not found, try with leading space\n",
    "        if found_position is None:\n",
    "            spaced_label = \" \" + label if not label.startswith(\" \") else label\n",
    "            label_ids = tokenizer.encode(spaced_label, add_special_tokens=False)\n",
    "            for idx in range(len(input_ids) - len(label_ids) + 1):\n",
    "                if torch.all(input_ids[idx: idx + len(label_ids)] == torch.tensor(label_ids)):\n",
    "                    found_position = idx\n",
    "                    break\n",
    "        \n",
    "        if found_position is not None:\n",
    "            positions.append(found_position)\n",
    "\n",
    "    return positions\n"
   ]
  },
  {
   "cell_type": "code",
   "execution_count": 6,
   "metadata": {},
   "outputs": [
    {
     "data": {
      "text/plain": [
       "'sadness'"
      ]
     },
     "execution_count": 6,
     "metadata": {},
     "output_type": "execute_result"
    }
   ],
   "source": [
    "label_text"
   ]
  },
  {
   "cell_type": "code",
   "execution_count": 5,
   "metadata": {},
   "outputs": [
    {
     "name": "stdout",
     "output_type": "stream",
     "text": [
      "Class positions: tensor([15])\n"
     ]
    },
    {
     "data": {
      "image/png": "[encoded data removed]",
      "text/plain": [
       "<Figure size 1000x600 with 1 Axes>"
      ]
     },
     "metadata": {},
     "output_type": "display_data"
    }
   ],
   "source": [
    "\n",
    "\n",
    "# ---------------------\n",
    "# Running Example\n",
    "# ---------------------\n",
    "\n",
    "# 1. Load a model and tokenizer\n",
    "model_name = \"gpt2\"\n",
    "tokenizer = AutoTokenizer.from_pretrained(model_name)\n",
    "model = AutoModelForCausalLM.from_pretrained(model_name, output_attentions=True)\n",
    "model.eval()\n",
    "\n",
    "# 2. Create a sample prompt with labels (using the \"emotion\" dataset)\n",
    "dataset = load_dataset(\"emotion\", split=\"train[:1%]\")\n",
    "label_names = dataset.features[\"label\"].names\n",
    "example = dataset[0]\n",
    "label_text = label_names[example[\"label\"]]\n",
    "\n",
    "# We create a longer prompt with multiple known labels\n",
    "input_text = (\n",
    "    \"Sentiment analysis:\\n\"\n",
    "    f\"Review: {example['text']}\\nSentiment: {label_text}\\n\\n\"\n",
    "    \"Review: The movie was fantastic, I loved every moment!\\nSentiment: joy\\n\\n\"\n",
    "    \"Review: The waiter was rude and the food was cold.\\nSentiment: anger\\n\\n\"\n",
    "    \"Review: I feel so happy and energetic after this workshop.\\nSentiment: joy\\n\\n\"\n",
    "    \"Review: The plot was confusing and left me frustrated.\\nSentiment: anger\\n\\n\"\n",
    "    \"Review: The scenery was breathtaking, and I felt very pleased.\\nSentiment: joy\\n\\n\"\n",
    "    \"Review: The product didn't work as advertised, and I want my money back!\\nSentiment: anger\\n\\n\"\n",
    "    \"Review: I hated this experience.\\nSentiment:\"\n",
    ")\n",
    "\n",
    "# We have one demonstration of sentiment analysis with a known label, then ask for sentiment of a new review.\n",
    "labels = [label_text]\n",
    "\n",
    "# 3. Tokenize and run the model\n",
    "inputs = tokenizer(input_text, return_tensors=\"pt\")\n",
    "input_ids = inputs[\"input_ids\"]\n",
    "target_position = len(input_ids[0]) - 1\n",
    "\n",
    "with torch.no_grad():\n",
    "    outputs = model(**inputs, labels=input_ids)\n",
    "loss = outputs.loss\n",
    "attention_matrices = outputs.attentions\n",
    "\n",
    "# 4. Compute saliency scores\n",
    "analyzer = SaliencyAnalyzer()\n",
    "saliency_scores = analyzer.compute_saliency_scores(list(attention_matrices), loss)\n",
    "\n",
    "# 5. Identify class positions (positions of label tokens)\n",
    "class_positions = torch.tensor(get_class_positions(tokenizer, input_text, labels))\n",
    "print(\"Class positions:\", class_positions)\n",
    "\n",
    "# 6. Compute and visualize flow metrics\n",
    "metrics = analyzer.compute_flow_metrics(saliency_scores, class_positions, target_position, normalize=True)\n",
    "S_wp = metrics[\"S_wp\"]\n",
    "S_pq = metrics[\"S_pq\"]\n",
    "S_ww = metrics[\"S_ww\"]\n",
    "\n",
    "layers = list(range(len(S_wp)))\n",
    "ICLVisualizer.plot_information_flow(layers, S_wp, S_pq, S_ww, title=\"Information Flow Across Layers\")\n",
    "\n"
   ]
  },
  {
   "cell_type": "code",
   "execution_count": 16,
   "metadata": {},
   "outputs": [
    {
     "name": "stdout",
     "output_type": "stream",
     "text": [
      "Sentiment analysis:\n",
      "Review: i didnt feel humiliated\n",
      "Sentiment: sadness\n",
      "\n",
      "Review: The movie was fantastic, I loved every moment!\n",
      "Sentiment: joy\n",
      "\n",
      "Review: The waiter was rude and the food was cold.\n",
      "Sentiment: anger\n",
      "\n",
      "Review: I feel so happy and energetic after this workshop.\n",
      "Sentiment: joy\n",
      "\n",
      "Review: The plot was confusing and left me frustrated.\n",
      "Sentiment: anger\n",
      "\n",
      "Review: The scenery was breathtaking, and I felt very pleased.\n",
      "Sentiment: joy\n",
      "\n",
      "Review: The product didn't work as advertised, and I want my money back!\n",
      "Sentiment: anger\n",
      "\n",
      "Review: I hated this experience.\n",
      "Sentiment:\n"
     ]
    }
   ],
   "source": [
    "print(input_text)"
   ]
  },
  {
   "cell_type": "code",
   "execution_count": 21,
   "metadata": {},
   "outputs": [
    {
     "data": {
      "text/plain": [
       "['sadness', 'joy', 'love', 'anger', 'fear', 'surprise']"
      ]
     },
     "execution_count": 21,
     "metadata": {},
     "output_type": "execute_result"
    }
   ],
   "source": [
    "label_names"
   ]
  },
  {
   "cell_type": "code",
   "execution_count": 3,
   "metadata": {},
   "outputs": [
    {
     "data": {
      "text/plain": [
       "3"
      ]
     },
     "execution_count": 3,
     "metadata": {},
     "output_type": "execute_result"
    }
   ],
   "source": [
    "example[\"label\"]"
   ]
  },
  {
   "cell_type": "code",
   "execution_count": 10,
   "metadata": {},
   "outputs": [
    {
     "name": "stdout",
     "output_type": "stream",
     "text": [
      "Constructed input_text:\n",
      " Sentiment analysis:\n",
      "Review: i didnt feel humiliated\n",
      "Sentiment: sadness\n",
      "\n",
      "Review: i can go from feeling so hopeless to so damned hopeful just from being around someone who cares and is awake\n",
      "Sentiment: sadness\n",
      "\n",
      "Review: im grabbing a minute to post i feel greedy wrong\n",
      "Sentiment: anger\n",
      "\n",
      "Review: i am ever feeling nostalgic about the fireplace i will know that it is still on the property\n",
      "Sentiment: love\n",
      "\n",
      "Review: i am feeling grouchy\n",
      "Sentiment: anger\n",
      "\n",
      "Review: ive been feeling a little burdened lately wasnt sure why that was\n",
      "Sentiment:\n"
     ]
    },
    {
     "name": "stderr",
     "output_type": "stream",
     "text": [
      "/Users/lihongxuan/miniconda3/envs/icl/lib/python3.10/site-packages/transformers/generation/configuration_utils.py:818: UserWarning: `return_dict_in_generate` is NOT set to `True`, but `output_attentions` is. When `return_dict_in_generate` is not `True`, `output_attentions` is ignored.\n",
      "  warnings.warn(\n"
     ]
    },
    {
     "name": "stdout",
     "output_type": "stream",
     "text": [
      "Class positions: tensor([15, 15, 64, 91, 64])\n"
     ]
    },
    {
     "ename": "IndexError",
     "evalue": "index 147 is out of bounds for dimension 2 with size 129",
     "output_type": "error",
     "traceback": [
      "\u001b[0;31m---------------------------------------------------------------------------\u001b[0m",
      "\u001b[0;31mIndexError\u001b[0m                                Traceback (most recent call last)",
      "Cell \u001b[0;32mIn[10], line 61\u001b[0m\n\u001b[1;32m     58\u001b[0m \u001b[38;5;28mprint\u001b[39m(\u001b[38;5;124m\"\u001b[39m\u001b[38;5;124mClass positions:\u001b[39m\u001b[38;5;124m\"\u001b[39m, class_positions)\n\u001b[1;32m     60\u001b[0m \u001b[38;5;66;03m# 6. Compute and visualize flow metrics\u001b[39;00m\n\u001b[0;32m---> 61\u001b[0m metrics \u001b[38;5;241m=\u001b[39m \u001b[43manalyzer\u001b[49m\u001b[38;5;241;43m.\u001b[39;49m\u001b[43mcompute_flow_metrics\u001b[49m\u001b[43m(\u001b[49m\u001b[43msaliency_scores\u001b[49m\u001b[43m,\u001b[49m\u001b[43m \u001b[49m\u001b[43mclass_positions\u001b[49m\u001b[43m,\u001b[49m\u001b[43m \u001b[49m\u001b[43mtarget_position\u001b[49m\u001b[43m,\u001b[49m\u001b[43m \u001b[49m\u001b[43mnormalize\u001b[49m\u001b[38;5;241;43m=\u001b[39;49m\u001b[38;5;28;43;01mTrue\u001b[39;49;00m\u001b[43m)\u001b[49m\n\u001b[1;32m     62\u001b[0m S_wp \u001b[38;5;241m=\u001b[39m metrics[\u001b[38;5;124m\"\u001b[39m\u001b[38;5;124mS_wp\u001b[39m\u001b[38;5;124m\"\u001b[39m]\n\u001b[1;32m     63\u001b[0m S_pq \u001b[38;5;241m=\u001b[39m metrics[\u001b[38;5;124m\"\u001b[39m\u001b[38;5;124mS_pq\u001b[39m\u001b[38;5;124m\"\u001b[39m]\n",
      "Cell \u001b[0;32mIn[1], line 60\u001b[0m, in \u001b[0;36mSaliencyAnalyzer.compute_flow_metrics\u001b[0;34m(self, saliency_scores, class_positions, target_position, normalize)\u001b[0m\n\u001b[1;32m     58\u001b[0m \u001b[38;5;66;03m# Label-to-target flow (S_pq)\u001b[39;00m\n\u001b[1;32m     59\u001b[0m pq_connections \u001b[38;5;241m=\u001b[39m \u001b[38;5;28mself\u001b[39m\u001b[38;5;241m.\u001b[39m_get_label_to_target_connections(class_positions, target_position)\n\u001b[0;32m---> 60\u001b[0m S_pq \u001b[38;5;241m=\u001b[39m \u001b[38;5;28;43mself\u001b[39;49m\u001b[38;5;241;43m.\u001b[39;49m\u001b[43m_compute_average_flow\u001b[49m\u001b[43m(\u001b[49m\u001b[43msaliency\u001b[49m\u001b[43m,\u001b[49m\u001b[43m \u001b[49m\u001b[43mpq_connections\u001b[49m\u001b[43m)\u001b[49m\n\u001b[1;32m     62\u001b[0m \u001b[38;5;66;03m# Other information flow (S_ww)\u001b[39;00m\n\u001b[1;32m     63\u001b[0m ww_connections \u001b[38;5;241m=\u001b[39m \u001b[38;5;28mself\u001b[39m\u001b[38;5;241m.\u001b[39m_get_other_connections(class_positions, target_position, saliency\u001b[38;5;241m.\u001b[39mshape[\u001b[38;5;241m-\u001b[39m\u001b[38;5;241m1\u001b[39m])\n",
      "Cell \u001b[0;32mIn[1], line 116\u001b[0m, in \u001b[0;36mSaliencyAnalyzer._compute_average_flow\u001b[0;34m(self, saliency, connections)\u001b[0m\n\u001b[1;32m    112\u001b[0m total \u001b[38;5;241m=\u001b[39m \u001b[38;5;241m0.0\u001b[39m\n\u001b[1;32m    113\u001b[0m \u001b[38;5;28;01mfor\u001b[39;00m i, j \u001b[38;5;129;01min\u001b[39;00m connections:\n\u001b[1;32m    114\u001b[0m     \u001b[38;5;66;03m# saliency: [batch, heads, seq, seq]\u001b[39;00m\n\u001b[1;32m    115\u001b[0m     \u001b[38;5;66;03m# sum over batch and heads\u001b[39;00m\n\u001b[0;32m--> 116\u001b[0m     total \u001b[38;5;241m+\u001b[39m\u001b[38;5;241m=\u001b[39m \u001b[43msaliency\u001b[49m\u001b[43m[\u001b[49m\u001b[43m:\u001b[49m\u001b[43m,\u001b[49m\u001b[43m \u001b[49m\u001b[43m:\u001b[49m\u001b[43m,\u001b[49m\u001b[43m \u001b[49m\u001b[43mi\u001b[49m\u001b[43m,\u001b[49m\u001b[43m \u001b[49m\u001b[43mj\u001b[49m\u001b[43m]\u001b[49m\u001b[38;5;241m.\u001b[39msum()\u001b[38;5;241m.\u001b[39mitem()\n\u001b[1;32m    117\u001b[0m \u001b[38;5;66;03m# Divide by the number of connections (no head division)\u001b[39;00m\n\u001b[1;32m    118\u001b[0m \u001b[38;5;28;01mreturn\u001b[39;00m total \u001b[38;5;241m/\u001b[39m \u001b[38;5;28mlen\u001b[39m(connections)\n",
      "\u001b[0;31mIndexError\u001b[0m: index 147 is out of bounds for dimension 2 with size 129"
     ]
    }
   ],
   "source": [
    "import torch\n",
    "from transformers import AutoModelForCausalLM, AutoTokenizer\n",
    "from datasets import load_dataset\n",
    "\n",
    "# Load the \"emotion\" dataset\n",
    "dataset = load_dataset(\"emotion\", split=\"train[:2%]\")\n",
    "label_names = dataset.features[\"label\"].names\n",
    "\n",
    "# Number of demonstrations to provide\n",
    "num_demos = 5\n",
    "\n",
    "# We'll collect `num_demos` examples for demonstration, plus one more to predict\n",
    "demonstration_examples = dataset.select(range(num_demos + 1))\n",
    "\n",
    "\n",
    "labels = []\n",
    "label_names = dataset.features[\"label\"].names\n",
    "\n",
    "# Build the prompt\n",
    "# Start without leading spaces\n",
    "input_text = \"Sentiment analysis:\\n\"\n",
    "for i in range(num_demos):\n",
    "    example = demonstration_examples[i]\n",
    "    text = example[\"text\"]\n",
    "    sentiment = label_names[example[\"label\"]]\n",
    "    # Add a leading space before the sentiment label\n",
    "    # and ensure a space after \"Sentiment:\"\n",
    "    spaced_sentiment = f\" {sentiment}\"\n",
    "    input_text += f\"Review: {text}\\nSentiment:{spaced_sentiment}\\n\\n\"\n",
    "    labels.append(label_names[example[\"label\"]])\n",
    "\n",
    "# The last example (for the model to predict)\n",
    "final_example = demonstration_examples[num_demos]\n",
    "final_text = final_example[\"text\"]\n",
    "# Prompt the model by not providing the sentiment label this time\n",
    "input_text += f\"Review: {final_text}\\nSentiment:\"\n",
    "\n",
    "print(\"Constructed input_text:\\n\", input_text)\n",
    "\n",
    "model_name = \"gpt2\"\n",
    "tokenizer = AutoTokenizer.from_pretrained(model_name)\n",
    "model = AutoModelForCausalLM.from_pretrained(model_name, output_attentions=True)\n",
    "model.eval()\n",
    "\n",
    "inputs = tokenizer(input_text, return_tensors=\"pt\")\n",
    "with torch.no_grad():\n",
    "    outputs = model(**inputs, labels=inputs[\"input_ids\"])\n",
    "\n",
    "loss = outputs.loss\n",
    "attention_matrices = outputs.attentions\n",
    "\n",
    "# 4. Compute saliency scores\n",
    "analyzer = SaliencyAnalyzer()\n",
    "saliency_scores = analyzer.compute_saliency_scores(list(attention_matrices), loss)\n",
    "\n",
    "# 5. Identify class positions (positions of label tokens)\n",
    "class_positions = torch.tensor(get_class_positions(tokenizer, input_text, labels))\n",
    "print(\"Class positions:\", class_positions)\n",
    "\n",
    "# 6. Compute and visualize flow metrics\n",
    "metrics = analyzer.compute_flow_metrics(saliency_scores, class_positions, target_position, normalize=True)\n",
    "S_wp = metrics[\"S_wp\"]\n",
    "S_pq = metrics[\"S_pq\"]\n",
    "S_ww = metrics[\"S_ww\"]\n",
    "\n",
    "layers = list(range(len(S_wp)))\n",
    "ICLVisualizer.plot_information_flow(layers, S_wp, S_pq, S_ww, title=\"Information Flow Across Layers\")\n",
    "\n"
   ]
  },
  {
   "cell_type": "code",
   "execution_count": 9,
   "metadata": {},
   "outputs": [
    {
     "data": {
      "text/plain": [
       "[0, 0, 3, 2, 3]"
      ]
     },
     "execution_count": 9,
     "metadata": {},
     "output_type": "execute_result"
    }
   ],
   "source": [
    "labels"
   ]
  },
  {
   "cell_type": "code",
   "execution_count": null,
   "metadata": {},
   "outputs": [
    {
     "data": {
      "application/vnd.plotly.v1+json": {
       "config": {
        "plotlyServerURL": "https://plot.ly"
       },
       "data": [
        {
         "line": {
          "color": "#1f77b4"
         },
         "marker": {
          "size": 8
         },
         "mode": "lines+markers",
         "name": "demon2label",
         "type": "scatter",
         "x": [
          1,
          2,
          3,
          4,
          5,
          6,
          7,
          8,
          9,
          10,
          11,
          12
         ],
         "y": [
          0,
          0.7267599115426474,
          0.593707425750074,
          0.37888499094261147,
          0.7340067156085767,
          0.844554857017398,
          0.9528473650997964,
          0.8376496892298693,
          0.6557645955496612,
          0.9428107899663402,
          0.8281635867686191,
          1
         ]
        },
        {
         "line": {
          "color": "#d62728"
         },
         "marker": {
          "size": 8
         },
         "mode": "lines+markers",
         "name": "label2target",
         "type": "scatter",
         "x": [
          1,
          2,
          3,
          4,
          5,
          6,
          7,
          8,
          9,
          10,
          11,
          12
         ],
         "y": [
          0.8451566226059924,
          0.631796792216246,
          0.18693624709314208,
          0,
          0.23092172395563046,
          0.2320294628749417,
          0.23051168832215618,
          0.46177041364500077,
          0.49998914241409503,
          0.5554669594017642,
          0.7091119432013634,
          1
         ]
        },
        {
         "line": {
          "color": "#2ca02c"
         },
         "marker": {
          "size": 8
         },
         "mode": "lines+markers",
         "name": "demon2demon",
         "type": "scatter",
         "x": [
          1,
          2,
          3,
          4,
          5,
          6,
          7,
          8,
          9,
          10,
          11,
          12
         ],
         "y": [
          0,
          0.6750439532925079,
          0.5912185985281458,
          0.630397944812551,
          0.6648086260225395,
          0.9336077551822194,
          0.9345850373466067,
          0.9422091000750192,
          0.9014787637934129,
          1,
          0.9832487493778415,
          0.8596976953246428
         ]
        }
       ],
       "layout": {
        "legend": {
         "orientation": "h",
         "x": 0.1,
         "y": 1.1
        },
        "margin": {
         "b": 50,
         "l": 50,
         "r": 50,
         "t": 80
        },
        "template": {
         "data": {
          "bar": [
           {
            "error_x": {
             "color": "#2a3f5f"
            },
            "error_y": {
             "color": "#2a3f5f"
            },
            "marker": {
             "line": {
              "color": "#E5ECF6",
              "width": 0.5
             },
             "pattern": {
              "fillmode": "overlay",
              "size": 10,
              "solidity": 0.2
             }
            },
            "type": "bar"
           }
          ],
          "barpolar": [
           {
            "marker": {
             "line": {
              "color": "#E5ECF6",
              "width": 0.5
             },
             "pattern": {
              "fillmode": "overlay",
              "size": 10,
              "solidity": 0.2
             }
            },
            "type": "barpolar"
           }
          ],
          "carpet": [
           {
            "aaxis": {
             "endlinecolor": "#2a3f5f",
             "gridcolor": "white",
             "linecolor": "white",
             "minorgridcolor": "white",
             "startlinecolor": "#2a3f5f"
            },
            "baxis": {
             "endlinecolor": "#2a3f5f",
             "gridcolor": "white",
             "linecolor": "white",
             "minorgridcolor": "white",
             "startlinecolor": "#2a3f5f"
            },
            "type": "carpet"
           }
          ],
          "choropleth": [
           {
            "colorbar": {
             "outlinewidth": 0,
             "ticks": ""
            },
            "type": "choropleth"
           }
          ],
          "contour": [
           {
            "colorbar": {
             "outlinewidth": 0,
             "ticks": ""
            },
            "colorscale": [
             [
              0,
              "#0d0887"
             ],
             [
              0.1111111111111111,
              "#46039f"
             ],
             [
              0.2222222222222222,
              "#7201a8"
             ],
             [
              0.3333333333333333,
              "#9c179e"
             ],
             [
              0.4444444444444444,
              "#bd3786"
             ],
             [
              0.5555555555555556,
              "#d8576b"
             ],
             [
              0.6666666666666666,
              "#ed7953"
             ],
             [
              0.7777777777777778,
              "#fb9f3a"
             ],
             [
              0.8888888888888888,
              "#fdca26"
             ],
             [
              1,
              "#f0f921"
             ]
            ],
            "type": "contour"
           }
          ],
          "contourcarpet": [
           {
            "colorbar": {
             "outlinewidth": 0,
             "ticks": ""
            },
            "type": "contourcarpet"
           }
          ],
          "heatmap": [
           {
            "colorbar": {
             "outlinewidth": 0,
             "ticks": ""
            },
            "colorscale": [
             [
              0,
              "#0d0887"
             ],
             [
              0.1111111111111111,
              "#46039f"
             ],
             [
              0.2222222222222222,
              "#7201a8"
             ],
             [
              0.3333333333333333,
              "#9c179e"
             ],
             [
              0.4444444444444444,
              "#bd3786"
             ],
             [
              0.5555555555555556,
              "#d8576b"
             ],
             [
              0.6666666666666666,
              "#ed7953"
             ],
             [
              0.7777777777777778,
              "#fb9f3a"
             ],
             [
              0.8888888888888888,
              "#fdca26"
             ],
             [
              1,
              "#f0f921"
             ]
            ],
            "type": "heatmap"
           }
          ],
          "heatmapgl": [
           {
            "colorbar": {
             "outlinewidth": 0,
             "ticks": ""
            },
            "colorscale": [
             [
              0,
              "#0d0887"
             ],
             [
              0.1111111111111111,
              "#46039f"
             ],
             [
              0.2222222222222222,
              "#7201a8"
             ],
             [
              0.3333333333333333,
              "#9c179e"
             ],
             [
              0.4444444444444444,
              "#bd3786"
             ],
             [
              0.5555555555555556,
              "#d8576b"
             ],
             [
              0.6666666666666666,
              "#ed7953"
             ],
             [
              0.7777777777777778,
              "#fb9f3a"
             ],
             [
              0.8888888888888888,
              "#fdca26"
             ],
             [
              1,
              "#f0f921"
             ]
            ],
            "type": "heatmapgl"
           }
          ],
          "histogram": [
           {
            "marker": {
             "pattern": {
              "fillmode": "overlay",
              "size": 10,
              "solidity": 0.2
             }
            },
            "type": "histogram"
           }
          ],
          "histogram2d": [
           {
            "colorbar": {
             "outlinewidth": 0,
             "ticks": ""
            },
            "colorscale": [
             [
              0,
              "#0d0887"
             ],
             [
              0.1111111111111111,
              "#46039f"
             ],
             [
              0.2222222222222222,
              "#7201a8"
             ],
             [
              0.3333333333333333,
              "#9c179e"
             ],
             [
              0.4444444444444444,
              "#bd3786"
             ],
             [
              0.5555555555555556,
              "#d8576b"
             ],
             [
              0.6666666666666666,
              "#ed7953"
             ],
             [
              0.7777777777777778,
              "#fb9f3a"
             ],
             [
              0.8888888888888888,
              "#fdca26"
             ],
             [
              1,
              "#f0f921"
             ]
            ],
            "type": "histogram2d"
           }
          ],
          "histogram2dcontour": [
           {
            "colorbar": {
             "outlinewidth": 0,
             "ticks": ""
            },
            "colorscale": [
             [
              0,
              "#0d0887"
             ],
             [
              0.1111111111111111,
              "#46039f"
             ],
             [
              0.2222222222222222,
              "#7201a8"
             ],
             [
              0.3333333333333333,
              "#9c179e"
             ],
             [
              0.4444444444444444,
              "#bd3786"
             ],
             [
              0.5555555555555556,
              "#d8576b"
             ],
             [
              0.6666666666666666,
              "#ed7953"
             ],
             [
              0.7777777777777778,
              "#fb9f3a"
             ],
             [
              0.8888888888888888,
              "#fdca26"
             ],
             [
              1,
              "#f0f921"
             ]
            ],
            "type": "histogram2dcontour"
           }
          ],
          "mesh3d": [
           {
            "colorbar": {
             "outlinewidth": 0,
             "ticks": ""
            },
            "type": "mesh3d"
           }
          ],
          "parcoords": [
           {
            "line": {
             "colorbar": {
              "outlinewidth": 0,
              "ticks": ""
             }
            },
            "type": "parcoords"
           }
          ],
          "pie": [
           {
            "automargin": true,
            "type": "pie"
           }
          ],
          "scatter": [
           {
            "fillpattern": {
             "fillmode": "overlay",
             "size": 10,
             "solidity": 0.2
            },
            "type": "scatter"
           }
          ],
          "scatter3d": [
           {
            "line": {
             "colorbar": {
              "outlinewidth": 0,
              "ticks": ""
             }
            },
            "marker": {
             "colorbar": {
              "outlinewidth": 0,
              "ticks": ""
             }
            },
            "type": "scatter3d"
           }
          ],
          "scattercarpet": [
           {
            "marker": {
             "colorbar": {
              "outlinewidth": 0,
              "ticks": ""
             }
            },
            "type": "scattercarpet"
           }
          ],
          "scattergeo": [
           {
            "marker": {
             "colorbar": {
              "outlinewidth": 0,
              "ticks": ""
             }
            },
            "type": "scattergeo"
           }
          ],
          "scattergl": [
           {
            "marker": {
             "colorbar": {
              "outlinewidth": 0,
              "ticks": ""
             }
            },
            "type": "scattergl"
           }
          ],
          "scattermapbox": [
           {
            "marker": {
             "colorbar": {
              "outlinewidth": 0,
              "ticks": ""
             }
            },
            "type": "scattermapbox"
           }
          ],
          "scatterpolar": [
           {
            "marker": {
             "colorbar": {
              "outlinewidth": 0,
              "ticks": ""
             }
            },
            "type": "scatterpolar"
           }
          ],
          "scatterpolargl": [
           {
            "marker": {
             "colorbar": {
              "outlinewidth": 0,
              "ticks": ""
             }
            },
            "type": "scatterpolargl"
           }
          ],
          "scatterternary": [
           {
            "marker": {
             "colorbar": {
              "outlinewidth": 0,
              "ticks": ""
             }
            },
            "type": "scatterternary"
           }
          ],
          "surface": [
           {
            "colorbar": {
             "outlinewidth": 0,
             "ticks": ""
            },
            "colorscale": [
             [
              0,
              "#0d0887"
             ],
             [
              0.1111111111111111,
              "#46039f"
             ],
             [
              0.2222222222222222,
              "#7201a8"
             ],
             [
              0.3333333333333333,
              "#9c179e"
             ],
             [
              0.4444444444444444,
              "#bd3786"
             ],
             [
              0.5555555555555556,
              "#d8576b"
             ],
             [
              0.6666666666666666,
              "#ed7953"
             ],
             [
              0.7777777777777778,
              "#fb9f3a"
             ],
             [
              0.8888888888888888,
              "#fdca26"
             ],
             [
              1,
              "#f0f921"
             ]
            ],
            "type": "surface"
           }
          ],
          "table": [
           {
            "cells": {
             "fill": {
              "color": "#EBF0F8"
             },
             "line": {
              "color": "white"
             }
            },
            "header": {
             "fill": {
              "color": "#C8D4E3"
             },
             "line": {
              "color": "white"
             }
            },
            "type": "table"
           }
          ]
         },
         "layout": {
          "annotationdefaults": {
           "arrowcolor": "#2a3f5f",
           "arrowhead": 0,
           "arrowwidth": 1
          },
          "autotypenumbers": "strict",
          "coloraxis": {
           "colorbar": {
            "outlinewidth": 0,
            "ticks": ""
           }
          },
          "colorscale": {
           "diverging": [
            [
             0,
             "#8e0152"
            ],
            [
             0.1,
             "#c51b7d"
            ],
            [
             0.2,
             "#de77ae"
            ],
            [
             0.3,
             "#f1b6da"
            ],
            [
             0.4,
             "#fde0ef"
            ],
            [
             0.5,
             "#f7f7f7"
            ],
            [
             0.6,
             "#e6f5d0"
            ],
            [
             0.7,
             "#b8e186"
            ],
            [
             0.8,
             "#7fbc41"
            ],
            [
             0.9,
             "#4d9221"
            ],
            [
             1,
             "#276419"
            ]
           ],
           "sequential": [
            [
             0,
             "#0d0887"
            ],
            [
             0.1111111111111111,
             "#46039f"
            ],
            [
             0.2222222222222222,
             "#7201a8"
            ],
            [
             0.3333333333333333,
             "#9c179e"
            ],
            [
             0.4444444444444444,
             "#bd3786"
            ],
            [
             0.5555555555555556,
             "#d8576b"
            ],
            [
             0.6666666666666666,
             "#ed7953"
            ],
            [
             0.7777777777777778,
             "#fb9f3a"
            ],
            [
             0.8888888888888888,
             "#fdca26"
            ],
            [
             1,
             "#f0f921"
            ]
           ],
           "sequentialminus": [
            [
             0,
             "#0d0887"
            ],
            [
             0.1111111111111111,
             "#46039f"
            ],
            [
             0.2222222222222222,
             "#7201a8"
            ],
            [
             0.3333333333333333,
             "#9c179e"
            ],
            [
             0.4444444444444444,
             "#bd3786"
            ],
            [
             0.5555555555555556,
             "#d8576b"
            ],
            [
             0.6666666666666666,
             "#ed7953"
            ],
            [
             0.7777777777777778,
             "#fb9f3a"
            ],
            [
             0.8888888888888888,
             "#fdca26"
            ],
            [
             1,
             "#f0f921"
            ]
           ]
          },
          "colorway": [
           "#636efa",
           "#EF553B",
           "#00cc96",
           "#ab63fa",
           "#FFA15A",
           "#19d3f3",
           "#FF6692",
           "#B6E880",
           "#FF97FF",
           "#FECB52"
          ],
          "font": {
           "color": "#2a3f5f"
          },
          "geo": {
           "bgcolor": "white",
           "lakecolor": "white",
           "landcolor": "#E5ECF6",
           "showlakes": true,
           "showland": true,
           "subunitcolor": "white"
          },
          "hoverlabel": {
           "align": "left"
          },
          "hovermode": "closest",
          "mapbox": {
           "style": "light"
          },
          "paper_bgcolor": "white",
          "plot_bgcolor": "#E5ECF6",
          "polar": {
           "angularaxis": {
            "gridcolor": "white",
            "linecolor": "white",
            "ticks": ""
           },
           "bgcolor": "#E5ECF6",
           "radialaxis": {
            "gridcolor": "white",
            "linecolor": "white",
            "ticks": ""
           }
          },
          "scene": {
           "xaxis": {
            "backgroundcolor": "#E5ECF6",
            "gridcolor": "white",
            "gridwidth": 2,
            "linecolor": "white",
            "showbackground": true,
            "ticks": "",
            "zerolinecolor": "white"
           },
           "yaxis": {
            "backgroundcolor": "#E5ECF6",
            "gridcolor": "white",
            "gridwidth": 2,
            "linecolor": "white",
            "showbackground": true,
            "ticks": "",
            "zerolinecolor": "white"
           },
           "zaxis": {
            "backgroundcolor": "#E5ECF6",
            "gridcolor": "white",
            "gridwidth": 2,
            "linecolor": "white",
            "showbackground": true,
            "ticks": "",
            "zerolinecolor": "white"
           }
          },
          "shapedefaults": {
           "line": {
            "color": "#2a3f5f"
           }
          },
          "ternary": {
           "aaxis": {
            "gridcolor": "white",
            "linecolor": "white",
            "ticks": ""
           },
           "baxis": {
            "gridcolor": "white",
            "linecolor": "white",
            "ticks": ""
           },
           "bgcolor": "#E5ECF6",
           "caxis": {
            "gridcolor": "white",
            "linecolor": "white",
            "ticks": ""
           }
          },
          "title": {
           "x": 0.05
          },
          "xaxis": {
           "automargin": true,
           "gridcolor": "white",
           "linecolor": "white",
           "ticks": "",
           "title": {
            "standoff": 15
           },
           "zerolinecolor": "white",
           "zerolinewidth": 2
          },
          "yaxis": {
           "automargin": true,
           "gridcolor": "white",
           "linecolor": "white",
           "ticks": "",
           "title": {
            "standoff": 15
           },
           "zerolinecolor": "white",
           "zerolinewidth": 2
          }
         }
        },
        "title": {
         "text": "Information Flow Across Layers"
        },
        "xaxis": {
         "title": {
          "text": "Layer"
         }
        },
        "yaxis": {
         "title": {
          "text": "Normalized S"
         }
        }
       }
      }
     },
     "metadata": {},
     "output_type": "display_data"
    }
   ],
   "source": [
    "import torch\n",
    "import numpy as np\n",
    "from transformers import AutoModelForCausalLM, AutoTokenizer\n",
    "from datasets import load_dataset\n",
    "from typing import List, Dict, Tuple\n",
    "import plotly.graph_objects as go\n",
    "from IPython.display import display\n",
    "\n",
    "class SaliencyAnalyzer:\n",
    "    def compute_saliency_scores(self, attention_matrices: List[torch.Tensor], loss: torch.Tensor) -> List[torch.Tensor]:\n",
    "        attention_matrices = [A.clone().detach().requires_grad_(True) for A in attention_matrices]\n",
    "        combined_matrix = sum([A.sum() for A in attention_matrices])\n",
    "        augmented_loss = loss + combined_matrix\n",
    "        augmented_loss.backward(retain_graph=True)\n",
    "        \n",
    "        saliency_scores = []\n",
    "        for A in attention_matrices:\n",
    "            grad = A.grad\n",
    "            if grad is None:\n",
    "                raise ValueError(\"Gradient not computed for attention matrix\")\n",
    "            saliency = torch.abs(A * grad)\n",
    "            saliency_scores.append(saliency)\n",
    "        return saliency_scores\n",
    "    \n",
    "    def compute_flow_metrics(self, saliency_scores: List[torch.Tensor], \n",
    "                           class_positions: torch.Tensor,\n",
    "                           target_position: int,\n",
    "                           normalize: bool = True) -> Dict[str, List[float]]:\n",
    "        raw_metrics = {\"S_wp\": [], \"S_pq\": [], \"S_ww\": []}\n",
    "        \n",
    "        for saliency in saliency_scores:\n",
    "            wp_connections = self._get_text_to_label_connections(class_positions)\n",
    "            S_wp = self._compute_average_flow(saliency, wp_connections)\n",
    "            \n",
    "            pq_connections = self._get_label_to_target_connections(class_positions, target_position)\n",
    "            S_pq = self._compute_average_flow(saliency, pq_connections)\n",
    "            \n",
    "            ww_connections = self._get_other_connections(class_positions, target_position, saliency.shape[-1])\n",
    "            S_ww = self._compute_average_flow(saliency, ww_connections)\n",
    "            \n",
    "            raw_metrics[\"S_wp\"].append(S_wp)\n",
    "            raw_metrics[\"S_pq\"].append(S_pq)\n",
    "            raw_metrics[\"S_ww\"].append(S_ww)\n",
    "        \n",
    "        if normalize:\n",
    "            normalized_metrics = {}\n",
    "            for key, values in raw_metrics.items():\n",
    "                min_val, max_val = min(values), max(values)\n",
    "                if max_val > min_val:\n",
    "                    normalized_metrics[key] = [(v - min_val) / (max_val - min_val) for v in values]\n",
    "                else:\n",
    "                    normalized_metrics[key] = [0.0 for _ in values]\n",
    "            return normalized_metrics\n",
    "        return raw_metrics\n",
    "\n",
    "    def _get_text_to_label_connections(self, class_positions: torch.Tensor) -> List[Tuple[int, int]]:\n",
    "        return [(p_k.item(), j) for p_k in class_positions for j in range(p_k.item())]\n",
    "\n",
    "    def _get_label_to_target_connections(self, class_positions: torch.Tensor, target_position: int) -> List[Tuple[int, int]]:\n",
    "        return [(target_position, p_k.item()) for p_k in class_positions]\n",
    "\n",
    "    def _get_other_connections(self, class_positions: torch.Tensor, target_position: int, seq_len: int) -> List[Tuple[int, int]]:\n",
    "        all_pairs = [(i, j) for i in range(seq_len) for j in range(i)]\n",
    "        exclude = set(self._get_text_to_label_connections(class_positions) + \n",
    "                     self._get_label_to_target_connections(class_positions, target_position))\n",
    "        return list(set(all_pairs) - exclude)\n",
    "\n",
    "    def _compute_average_flow(self, saliency: torch.Tensor, connections: List[Tuple[int, int]]) -> float:\n",
    "        if not connections:\n",
    "            return 0.0\n",
    "        total = 0.0\n",
    "        for i, j in connections:\n",
    "            if i >= saliency.shape[2] or j >= saliency.shape[3]:\n",
    "                continue\n",
    "            total += saliency[:, :, i, j].sum().item()\n",
    "        return total / len(connections) if connections else 0.0\n",
    "\n",
    "def generate_fancy_plot_jupyter(layers, S_wp, S_pq, S_ww):\n",
    "    fig = go.Figure()\n",
    "\n",
    "    fig.add_trace(go.Scatter(\n",
    "        x=layers, y=S_wp,\n",
    "        mode='lines+markers',\n",
    "        name='demon2label',\n",
    "        line=dict(color='#1f77b4'),\n",
    "        marker=dict(size=8)\n",
    "    ))\n",
    "\n",
    "    fig.add_trace(go.Scatter(\n",
    "        x=layers, y=S_pq,\n",
    "        mode='lines+markers',\n",
    "        name='label2target',\n",
    "        line=dict(color='#d62728'),\n",
    "        marker=dict(size=8)\n",
    "    ))\n",
    "\n",
    "    fig.add_trace(go.Scatter(\n",
    "        x=layers, y=S_ww,\n",
    "        mode='lines+markers',\n",
    "        name='demon2demon',\n",
    "        line=dict(color='#2ca02c'),\n",
    "        marker=dict(size=8)\n",
    "    ))\n",
    "\n",
    "    fig.update_layout(\n",
    "        title='Information Flow Across Layers',\n",
    "        xaxis_title='Layer',\n",
    "        yaxis_title='Normalized S',\n",
    "        legend=dict(x=0.1, y=1.1, orientation='h'),\n",
    "        margin=dict(l=50, r=50, t=80, b=50)\n",
    "    )\n",
    "\n",
    "    fig.show()\n",
    "def get_class_positions(tokenizer, input_text, labels):\n",
    "    tokenized_input = tokenizer(input_text, return_tensors=\"pt\", add_special_tokens=False)\n",
    "    input_ids = tokenized_input[\"input_ids\"][0]\n",
    "    positions = []\n",
    "    \n",
    "    for label in labels:\n",
    "        label_ids = tokenizer.encode(label, add_special_tokens=False)\n",
    "        found_position = None\n",
    "        \n",
    "        for idx in range(len(input_ids) - len(label_ids) + 1):\n",
    "            if torch.all(input_ids[idx: idx + len(label_ids)] == torch.tensor(label_ids)):\n",
    "                found_position = idx\n",
    "                break\n",
    "        \n",
    "        if found_position is None:\n",
    "            spaced_label = \" \" + label if not label.startswith(\" \") else label\n",
    "            label_ids = tokenizer.encode(spaced_label, add_special_tokens=False)\n",
    "            for idx in range(len(input_ids) - len(label_ids) + 1):\n",
    "                if torch.all(input_ids[idx: idx + len(label_ids)] == torch.tensor(label_ids)):\n",
    "                    found_position = idx\n",
    "                    break\n",
    "        \n",
    "        if found_position is not None:\n",
    "            positions.append(found_position)\n",
    "        else:\n",
    "            print(f\"Warning: Label '{label}' not found in input text.\")\n",
    "    \n",
    "    return positions\n",
    "\n",
    "def find_last_sentiment_position(tokenizer, input_ids):\n",
    "    sentiment_token_ids = tokenizer.encode(\"Demonstration:\", add_special_tokens=False)\n",
    "    sentiment_length = len(sentiment_token_ids)\n",
    "    positions = []\n",
    "    \n",
    "    for i in range(len(input_ids) - sentiment_length + 1):\n",
    "        if torch.all(input_ids[i:i+sentiment_length] == torch.tensor(sentiment_token_ids)):\n",
    "            positions.append(i)\n",
    "    \n",
    "    if not positions:\n",
    "        raise ValueError(\"No 'Sentiment:' token found in input_ids.\")\n",
    "    \n",
    "    last_sentiment_start = positions[-1]\n",
    "    target_position = last_sentiment_start + sentiment_length\n",
    "    return min(target_position, len(input_ids) - 1)\n",
    "\n",
    "def main():\n",
    "    dataset = load_dataset(\"emotion\", split=\"train[:2%]\")\n",
    "    num_demos = 5\n",
    "    demonstration_examples = dataset.select(range(num_demos + 1))\n",
    "    labels = []\n",
    "    label_names = dataset.features[\"label\"].names\n",
    "    input_text = \"\"\n",
    "    for i in range(num_demos):\n",
    "        example = demonstration_examples[i]\n",
    "        text = example[\"text\"]\n",
    "        sentiment = label_names[example[\"label\"]]\n",
    "        spaced_sentiment = f\" {sentiment}\"\n",
    "        input_text += f\"Demonstration: {text}\\nLabel:{spaced_sentiment}\\n\\n\"\n",
    "        labels.append(label_names[example[\"label\"]])\n",
    "    \n",
    "    final_example = demonstration_examples[num_demos]\n",
    "    final_text = final_example[\"text\"]\n",
    "    input_text += f\"Demonstration: {final_text}\\nLabel:\"\n",
    "\n",
    "\n",
    "    \n",
    "    model_name = \"gpt2\"\n",
    "    tokenizer = AutoTokenizer.from_pretrained(model_name)\n",
    "    model = AutoModelForCausalLM.from_pretrained(model_name, output_attentions=True)\n",
    "    model.eval()\n",
    "    \n",
    "    inputs = tokenizer(input_text, return_tensors=\"pt\")\n",
    "    input_ids = inputs[\"input_ids\"][0]\n",
    "    target_position = find_last_sentiment_position(tokenizer, input_ids)\n",
    "    \n",
    "    model.train()\n",
    "    outputs = model(**inputs, labels=inputs[\"input_ids\"])\n",
    "    \n",
    "    analyzer = SaliencyAnalyzer()\n",
    "    saliency_scores = analyzer.compute_saliency_scores(list(outputs.attentions), outputs.loss)\n",
    "    \n",
    "    class_positions = torch.tensor(get_class_positions(tokenizer, input_text, labels))\n",
    "    metrics = analyzer.compute_flow_metrics(saliency_scores, class_positions, target_position, normalize=True)\n",
    "    \n",
    "    layers = list(range(1, len(metrics[\"S_wp\"]) + 1))\n",
    "    generate_fancy_plot_jupyter(layers, metrics[\"S_wp\"], metrics[\"S_pq\"], metrics[\"S_ww\"])\n",
    "\n",
    "if __name__ == \"__main__\":\n",
    "    main()"
   ]
  },
  {
   "cell_type": "code",
   "execution_count": 7,
   "metadata": {},
   "outputs": [],
   "source": [
    "dataset = load_dataset(\"emotion\", split=\"train[:2%]\")\n",
    "num_demos = 5\n",
    "demonstration_examples = dataset.select(range(num_demos + 1))\n",
    "labels = []\n",
    "label_names = dataset.features[\"label\"].names"
   ]
  },
  {
   "cell_type": "code",
   "execution_count": null,
   "metadata": {},
   "outputs": [],
   "source": []
  }
 ],
 "metadata": {
  "kernelspec": {
   "display_name": "icl",
   "language": "python",
   "name": "python3"
  },
  "language_info": {
   "codemirror_mode": {
    "name": "ipython",
    "version": 3
   },
   "file_extension": ".py",
   "mimetype": "text/x-python",
   "name": "python",
   "nbconvert_exporter": "python",
   "pygments_lexer": "ipython3",
   "version": "3.10.15"
  }
 },
 "nbformat": 4,
 "nbformat_minor": 2
}
