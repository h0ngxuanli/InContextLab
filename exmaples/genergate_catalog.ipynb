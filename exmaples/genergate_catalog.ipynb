{
 "cells": [
  {
   "cell_type": "code",
   "execution_count": 2,
   "metadata": {},
   "outputs": [
    {
     "data": {
      "text/markdown": [
       "# Notebook Catalog\n",
       "\n",
       "- [/Users/lihongxuan/Desktop/InContextLab/exmaples/demos.ipynb](.//Users/lihongxuan/Desktop/InContextLab/exmaples/demos.ipynb)"
      ],
      "text/plain": [
       "<IPython.core.display.Markdown object>"
      ]
     },
     "metadata": {},
     "output_type": "display_data"
    }
   ],
   "source": [
    "import os\n",
    "from IPython.display import display, Markdown\n",
    "\n",
    "# Get all ipynb files in current directory\n",
    "notebooks = [\"/Users/lihongxuan/Desktop/InContextLab/exmaples/demos.ipynb\"]\n",
    "\n",
    "# Optionally, exclude the current notebook\n",
    "# Uncomment and specify the current notebook file name if needed\n",
    "# current_notebook = \"your_current_notebook.ipynb\"\n",
    "# notebooks = [nb for nb in notebooks if nb != current_notebook]\n",
    "\n",
    "# Generate markdown links for each notebook\n",
    "links = [f\"- [{nb}](./{nb})\" for nb in notebooks]\n",
    "\n",
    "# Create a Markdown display\n",
    "catalog_markdown = \"# Notebook Catalog\\n\\n\" + \"\\n\".join(links)\n",
    "display(Markdown(catalog_markdown))\n"
   ]
  },
  {
   "cell_type": "markdown",
   "metadata": {},
   "source": []
  }
 ],
 "metadata": {
  "kernelspec": {
   "display_name": "icl",
   "language": "python",
   "name": "python3"
  },
  "language_info": {
   "codemirror_mode": {
    "name": "ipython",
    "version": 3
   },
   "file_extension": ".py",
   "mimetype": "text/x-python",
   "name": "python",
   "nbconvert_exporter": "python",
   "pygments_lexer": "ipython3",
   "version": "3.10.15"
  }
 },
 "nbformat": 4,
 "nbformat_minor": 2
}
