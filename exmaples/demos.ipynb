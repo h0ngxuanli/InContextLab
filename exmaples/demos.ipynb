{
 "cells": [
  {
   "cell_type": "markdown",
   "metadata": {},
   "source": [
    "# Post Hoc Explanations of Language Models Can Improve Language Models"
   ]
  },
  {
   "cell_type": "code",
   "execution_count": null,
   "metadata": {},
   "outputs": [],
   "source": []
  },
  {
   "cell_type": "code",
   "execution_count": 2,
   "metadata": {},
   "outputs": [
    {
     "name": "stderr",
     "output_type": "stream",
     "text": [
      "Some weights of GPT2ForSequenceClassification were not initialized from the model checkpoint at gpt2 and are newly initialized: ['score.weight']\n",
      "You should probably TRAIN this model on a down-stream task to be able to use it for predictions and inference.\n",
      "2024-12-07 22:02:44,106 - incontextlab.src.amplify_model - INFO - Starting AMPLIFY pipeline\n",
      "2024-12-07 22:02:44,106 - incontextlab.src.amplify_model - INFO - Constructed label_to_idx mapping: {'negative': 0, 'positive': 1}\n",
      "2024-12-07 22:02:44,106 - incontextlab.src.amplify_model - INFO - Selecting samples using MCS\n",
      "Computing MCS scores:   0%|          | 0/10 [00:00<?, ?it/s]huggingface/tokenizers: The current process just got forked, after parallelism has already been used. Disabling parallelism to avoid deadlocks...\n",
      "To disable this warning, you can either:\n",
      "\t- Avoid using `tokenizers` before the fork if possible\n",
      "\t- Explicitly set the environment variable TOKENIZERS_PARALLELISM=(true | false)\n",
      "Computing MCS scores: 100%|██████████| 10/10 [00:00<00:00, 41.05it/s]\n",
      "2024-12-07 22:02:44,385 - incontextlab.src.amplify_model - INFO - Generating explanations\n",
      "GPT2ForSequenceClassification will not detect padding tokens in `inputs_embeds`. Results may be unexpected if using padding tokens in conjunction with `inputs_embeds.`\n",
      "2024-12-07 22:02:44,794 - incontextlab.src.amplify_model - INFO - Generating final prompt\n"
     ]
    },
    {
     "data": {
      "text/html": [
       "\n",
       "        <div style=\"font-family: Arial, sans-serif; max-width: 900px; margin: 20px auto;\">\n",
       "            <style>\n",
       "                .token-container {\n",
       "                    margin: 10px 0;\n",
       "                    padding: 15px;\n",
       "                    border: 1px solid #ddd;\n",
       "                    border-radius: 8px;\n",
       "                    background-color: #f8f9fa;\n",
       "                }\n",
       "                .token {\n",
       "                    display: inline-block;\n",
       "                    margin: 2px;\n",
       "                    padding: 5px 10px;\n",
       "                    border-radius: 4px;\n",
       "                    position: relative;\n",
       "                    cursor: pointer;\n",
       "                    color: black;\n",
       "                }\n",
       "                .token:hover .tooltip {\n",
       "                    display: block;\n",
       "                }\n",
       "                .tooltip {\n",
       "                    display: none;\n",
       "                    position: absolute;\n",
       "                    bottom: 100%;\n",
       "                    left: 50%;\n",
       "                    transform: translateX(-50%);\n",
       "                    background-color: #333;\n",
       "                    color: white;\n",
       "                    padding: 4px 8px;\n",
       "                    border-radius: 4px;\n",
       "                    font-size: 12px;\n",
       "                    white-space: nowrap;\n",
       "                    z-index: 100;\n",
       "                }\n",
       "                .prompt-container {\n",
       "                    margin-top: 20px;\n",
       "                    padding: 15px;\n",
       "                    background-color: #f8f9fa;\n",
       "                    border-radius: 8px;\n",
       "                }\n",
       "                .section-title {\n",
       "                    font-weight: bold;\n",
       "                    margin: 10px 0;\n",
       "                    color: #2c5282;\n",
       "                }\n",
       "            </style>\n",
       "            \n",
       "            <div class=\"section-title\">Token Explanation Score</div>\n",
       "            \n",
       "            <div id=\"visualization-container\">\n",
       "                \n",
       "                <div class=\"token-container\">\n",
       "                    <div style=\"margin-bottom: 10px;\">\n",
       "                        <b>Sample 1:</b> Label = positive (MCS: -1.000)\n",
       "                    </div>\n",
       "                    <div>\n",
       "                        \n",
       "                        <span class=\"token\" \n",
       "                              style=\"background-color: rgba(255, 69, 0, calc(0.2));\">\n",
       "                            I\n",
       "                            <span class=\"tooltip\">Score: 0.000</span>\n",
       "                        </span>\n",
       "                        \n",
       "                        <span class=\"token\" \n",
       "                              style=\"background-color: rgba(255, 69, 0, calc(1.0));\">\n",
       "                            love\n",
       "                            <span class=\"tooltip\">Score: 1.000</span>\n",
       "                        </span>\n",
       "                        \n",
       "                        <span class=\"token\" \n",
       "                              style=\"background-color: rgba(255, 69, 0, calc(0.7544752120971681));\">\n",
       "                            machine\n",
       "                            <span class=\"tooltip\">Score: 0.693</span>\n",
       "                        </span>\n",
       "                        \n",
       "                        <span class=\"token\" \n",
       "                              style=\"background-color: rgba(255, 69, 0, calc(0.3835786819458008));\">\n",
       "                            learning\n",
       "                            <span class=\"tooltip\">Score: 0.229</span>\n",
       "                        </span>\n",
       "                        \n",
       "                        <span class=\"token\" \n",
       "                              style=\"background-color: rgba(255, 69, 0, calc(0.2));\">\n",
       "                            and\n",
       "                            <span class=\"tooltip\">Score: 0.000</span>\n",
       "                        </span>\n",
       "                        \n",
       "                        <span class=\"token\" \n",
       "                              style=\"background-color: rgba(255, 69, 0, calc(0.4126387357711792));\">\n",
       "                            artificial\n",
       "                            <span class=\"tooltip\">Score: 0.266</span>\n",
       "                        </span>\n",
       "                        \n",
       "                        <span class=\"token\" \n",
       "                              style=\"background-color: rgba(255, 69, 0, calc(0.2));\">\n",
       "                            intelligence\n",
       "                            <span class=\"tooltip\">Score: 0.000</span>\n",
       "                        </span>\n",
       "                        \n",
       "                        <span class=\"token\" \n",
       "                              style=\"background-color: rgba(255, 69, 0, calc(0.2));\">\n",
       "                            .\n",
       "                            <span class=\"tooltip\">Score: 0.000</span>\n",
       "                        </span>\n",
       "                        \n",
       "                    </div>\n",
       "                </div>\n",
       "                \n",
       "                <div class=\"token-container\">\n",
       "                    <div style=\"margin-bottom: 10px;\">\n",
       "                        <b>Sample 2:</b> Label = positive (MCS: -1.000)\n",
       "                    </div>\n",
       "                    <div>\n",
       "                        \n",
       "                        <span class=\"token\" \n",
       "                              style=\"background-color: rgba(255, 69, 0, calc(0.2));\">\n",
       "                            The\n",
       "                            <span class=\"tooltip\">Score: 0.000</span>\n",
       "                        </span>\n",
       "                        \n",
       "                        <span class=\"token\" \n",
       "                              style=\"background-color: rgba(255, 69, 0, calc(0.6966380119323731));\">\n",
       "                            scenery\n",
       "                            <span class=\"tooltip\">Score: 0.621</span>\n",
       "                        </span>\n",
       "                        \n",
       "                        <span class=\"token\" \n",
       "                              style=\"background-color: rgba(255, 69, 0, calc(0.2));\">\n",
       "                            here\n",
       "                            <span class=\"tooltip\">Score: 0.000</span>\n",
       "                        </span>\n",
       "                        \n",
       "                        <span class=\"token\" \n",
       "                              style=\"background-color: rgba(255, 69, 0, calc(0.2));\">\n",
       "                            is\n",
       "                            <span class=\"tooltip\">Score: 0.000</span>\n",
       "                        </span>\n",
       "                        \n",
       "                        <span class=\"token\" \n",
       "                              style=\"background-color: rgba(255, 69, 0, calc(0.6339187622070312));\">\n",
       "                            breathtaking\n",
       "                            <span class=\"tooltip\">Score: 0.542</span>\n",
       "                        </span>\n",
       "                        \n",
       "                        <span class=\"token\" \n",
       "                              style=\"background-color: rgba(255, 69, 0, calc(0.2));\">\n",
       "                            ,\n",
       "                            <span class=\"tooltip\">Score: 0.000</span>\n",
       "                        </span>\n",
       "                        \n",
       "                        <span class=\"token\" \n",
       "                              style=\"background-color: rgba(255, 69, 0, calc(0.2));\">\n",
       "                            I\n",
       "                            <span class=\"tooltip\">Score: 0.000</span>\n",
       "                        </span>\n",
       "                        \n",
       "                        <span class=\"token\" \n",
       "                              style=\"background-color: rgba(255, 69, 0, calc(1.0));\">\n",
       "                            âĢ\n",
       "                            <span class=\"tooltip\">Score: 1.000</span>\n",
       "                        </span>\n",
       "                        \n",
       "                        <span class=\"token\" \n",
       "                              style=\"background-color: rgba(255, 69, 0, calc(0.34117635488510134));\">\n",
       "                            Ļ\n",
       "                            <span class=\"tooltip\">Score: 0.176</span>\n",
       "                        </span>\n",
       "                        \n",
       "                        <span class=\"token\" \n",
       "                              style=\"background-color: rgba(255, 69, 0, calc(0.2));\">\n",
       "                            m\n",
       "                            <span class=\"tooltip\">Score: 0.000</span>\n",
       "                        </span>\n",
       "                        \n",
       "                        <span class=\"token\" \n",
       "                              style=\"background-color: rgba(255, 69, 0, calc(0.2));\">\n",
       "                            in\n",
       "                            <span class=\"tooltip\">Score: 0.000</span>\n",
       "                        </span>\n",
       "                        \n",
       "                        <span class=\"token\" \n",
       "                              style=\"background-color: rgba(255, 69, 0, calc(0.2));\">\n",
       "                            awe\n",
       "                            <span class=\"tooltip\">Score: 0.000</span>\n",
       "                        </span>\n",
       "                        \n",
       "                        <span class=\"token\" \n",
       "                              style=\"background-color: rgba(255, 69, 0, calc(0.2));\">\n",
       "                            .\n",
       "                            <span class=\"tooltip\">Score: 0.000</span>\n",
       "                        </span>\n",
       "                        \n",
       "                    </div>\n",
       "                </div>\n",
       "                \n",
       "                <div class=\"token-container\">\n",
       "                    <div style=\"margin-bottom: 10px;\">\n",
       "                        <b>Sample 3:</b> Label = positive (MCS: -0.999)\n",
       "                    </div>\n",
       "                    <div>\n",
       "                        \n",
       "                        <span class=\"token\" \n",
       "                              style=\"background-color: rgba(255, 69, 0, calc(0.2));\">\n",
       "                            I\n",
       "                            <span class=\"tooltip\">Score: 0.000</span>\n",
       "                        </span>\n",
       "                        \n",
       "                        <span class=\"token\" \n",
       "                              style=\"background-color: rgba(255, 69, 0, calc(0.5411209106445313));\">\n",
       "                            absolutely\n",
       "                            <span class=\"tooltip\">Score: 0.426</span>\n",
       "                        </span>\n",
       "                        \n",
       "                        <span class=\"token\" \n",
       "                              style=\"background-color: rgba(255, 69, 0, calc(1.0));\">\n",
       "                            adore\n",
       "                            <span class=\"tooltip\">Score: 1.000</span>\n",
       "                        </span>\n",
       "                        \n",
       "                        <span class=\"token\" \n",
       "                              style=\"background-color: rgba(255, 69, 0, calc(0.2));\">\n",
       "                            the\n",
       "                            <span class=\"tooltip\">Score: 0.000</span>\n",
       "                        </span>\n",
       "                        \n",
       "                        <span class=\"token\" \n",
       "                              style=\"background-color: rgba(255, 69, 0, calc(0.2));\">\n",
       "                            way\n",
       "                            <span class=\"tooltip\">Score: 0.000</span>\n",
       "                        </span>\n",
       "                        \n",
       "                        <span class=\"token\" \n",
       "                              style=\"background-color: rgba(255, 69, 0, calc(0.2));\">\n",
       "                            the\n",
       "                            <span class=\"tooltip\">Score: 0.000</span>\n",
       "                        </span>\n",
       "                        \n",
       "                        <span class=\"token\" \n",
       "                              style=\"background-color: rgba(255, 69, 0, calc(0.6630038738250732));\">\n",
       "                            sun\n",
       "                            <span class=\"tooltip\">Score: 0.579</span>\n",
       "                        </span>\n",
       "                        \n",
       "                        <span class=\"token\" \n",
       "                              style=\"background-color: rgba(255, 69, 0, calc(0.33454763889312744));\">\n",
       "                            sets\n",
       "                            <span class=\"tooltip\">Score: 0.168</span>\n",
       "                        </span>\n",
       "                        \n",
       "                        <span class=\"token\" \n",
       "                              style=\"background-color: rgba(255, 69, 0, calc(0.2));\">\n",
       "                            over\n",
       "                            <span class=\"tooltip\">Score: 0.000</span>\n",
       "                        </span>\n",
       "                        \n",
       "                        <span class=\"token\" \n",
       "                              style=\"background-color: rgba(255, 69, 0, calc(0.2));\">\n",
       "                            the\n",
       "                            <span class=\"tooltip\">Score: 0.000</span>\n",
       "                        </span>\n",
       "                        \n",
       "                        <span class=\"token\" \n",
       "                              style=\"background-color: rgba(255, 69, 0, calc(0.4146468162536621));\">\n",
       "                            horizon\n",
       "                            <span class=\"tooltip\">Score: 0.268</span>\n",
       "                        </span>\n",
       "                        \n",
       "                        <span class=\"token\" \n",
       "                              style=\"background-color: rgba(255, 69, 0, calc(0.2));\">\n",
       "                            .\n",
       "                            <span class=\"tooltip\">Score: 0.000</span>\n",
       "                        </span>\n",
       "                        \n",
       "                    </div>\n",
       "                </div>\n",
       "                \n",
       "                <div class=\"token-container\">\n",
       "                    <div style=\"margin-bottom: 10px;\">\n",
       "                        <b>Sample 4:</b> Label = positive (MCS: -0.998)\n",
       "                    </div>\n",
       "                    <div>\n",
       "                        \n",
       "                        <span class=\"token\" \n",
       "                              style=\"background-color: rgba(255, 69, 0, calc(0.2));\">\n",
       "                            My\n",
       "                            <span class=\"tooltip\">Score: 0.000</span>\n",
       "                        </span>\n",
       "                        \n",
       "                        <span class=\"token\" \n",
       "                              style=\"background-color: rgba(255, 69, 0, calc(0.9852792263031007));\">\n",
       "                            experience\n",
       "                            <span class=\"tooltip\">Score: 0.982</span>\n",
       "                        </span>\n",
       "                        \n",
       "                        <span class=\"token\" \n",
       "                              style=\"background-color: rgba(255, 69, 0, calc(0.2));\">\n",
       "                            was\n",
       "                            <span class=\"tooltip\">Score: 0.000</span>\n",
       "                        </span>\n",
       "                        \n",
       "                        <span class=\"token\" \n",
       "                              style=\"background-color: rgba(255, 69, 0, calc(1.0));\">\n",
       "                            amazing\n",
       "                            <span class=\"tooltip\">Score: 1.000</span>\n",
       "                        </span>\n",
       "                        \n",
       "                        <span class=\"token\" \n",
       "                              style=\"background-color: rgba(255, 69, 0, calc(0.2));\">\n",
       "                            ;\n",
       "                            <span class=\"tooltip\">Score: 0.000</span>\n",
       "                        </span>\n",
       "                        \n",
       "                        <span class=\"token\" \n",
       "                              style=\"background-color: rgba(255, 69, 0, calc(0.2));\">\n",
       "                            I\n",
       "                            <span class=\"tooltip\">Score: 0.000</span>\n",
       "                        </span>\n",
       "                        \n",
       "                        <span class=\"token\" \n",
       "                              style=\"background-color: rgba(255, 69, 0, calc(0.6668187618255615));\">\n",
       "                            would\n",
       "                            <span class=\"tooltip\">Score: 0.584</span>\n",
       "                        </span>\n",
       "                        \n",
       "                        <span class=\"token\" \n",
       "                              style=\"background-color: rgba(255, 69, 0, calc(0.8765548706054689));\">\n",
       "                            happily\n",
       "                            <span class=\"tooltip\">Score: 0.846</span>\n",
       "                        </span>\n",
       "                        \n",
       "                        <span class=\"token\" \n",
       "                              style=\"background-color: rgba(255, 69, 0, calc(0.2));\">\n",
       "                            come\n",
       "                            <span class=\"tooltip\">Score: 0.000</span>\n",
       "                        </span>\n",
       "                        \n",
       "                        <span class=\"token\" \n",
       "                              style=\"background-color: rgba(255, 69, 0, calc(0.20087595079094173));\">\n",
       "                            back\n",
       "                            <span class=\"tooltip\">Score: 0.001</span>\n",
       "                        </span>\n",
       "                        \n",
       "                        <span class=\"token\" \n",
       "                              style=\"background-color: rgba(255, 69, 0, calc(0.2));\">\n",
       "                            again\n",
       "                            <span class=\"tooltip\">Score: 0.000</span>\n",
       "                        </span>\n",
       "                        \n",
       "                        <span class=\"token\" \n",
       "                              style=\"background-color: rgba(255, 69, 0, calc(0.2));\">\n",
       "                            !\n",
       "                            <span class=\"tooltip\">Score: 0.000</span>\n",
       "                        </span>\n",
       "                        \n",
       "                    </div>\n",
       "                </div>\n",
       "                \n",
       "                <div class=\"token-container\">\n",
       "                    <div style=\"margin-bottom: 10px;\">\n",
       "                        <b>Sample 5:</b> Label = positive (MCS: -0.998)\n",
       "                    </div>\n",
       "                    <div>\n",
       "                        \n",
       "                        <span class=\"token\" \n",
       "                              style=\"background-color: rgba(255, 69, 0, calc(0.2));\">\n",
       "                            She\n",
       "                            <span class=\"tooltip\">Score: 0.000</span>\n",
       "                        </span>\n",
       "                        \n",
       "                        <span class=\"token\" \n",
       "                              style=\"background-color: rgba(255, 69, 0, calc(0.2));\">\n",
       "                            found\n",
       "                            <span class=\"tooltip\">Score: 0.000</span>\n",
       "                        </span>\n",
       "                        \n",
       "                        <span class=\"token\" \n",
       "                              style=\"background-color: rgba(255, 69, 0, calc(0.2));\">\n",
       "                            the\n",
       "                            <span class=\"tooltip\">Score: 0.000</span>\n",
       "                        </span>\n",
       "                        \n",
       "                        <span class=\"token\" \n",
       "                              style=\"background-color: rgba(255, 69, 0, calc(0.7483920574188232));\">\n",
       "                            gift\n",
       "                            <span class=\"tooltip\">Score: 0.685</span>\n",
       "                        </span>\n",
       "                        \n",
       "                        <span class=\"token\" \n",
       "                              style=\"background-color: rgba(255, 69, 0, calc(0.20951567962765694));\">\n",
       "                            absolutely\n",
       "                            <span class=\"tooltip\">Score: 0.012</span>\n",
       "                        </span>\n",
       "                        \n",
       "                        <span class=\"token\" \n",
       "                              style=\"background-color: rgba(255, 69, 0, calc(1.0));\">\n",
       "                            delightful\n",
       "                            <span class=\"tooltip\">Score: 1.000</span>\n",
       "                        </span>\n",
       "                        \n",
       "                        <span class=\"token\" \n",
       "                              style=\"background-color: rgba(255, 69, 0, calc(0.2));\">\n",
       "                            .\n",
       "                            <span class=\"tooltip\">Score: 0.000</span>\n",
       "                        </span>\n",
       "                        \n",
       "                    </div>\n",
       "                </div>\n",
       "                \n",
       "            </div>\n",
       "\n",
       "            <div class=\"section-title\">Generated Training Prompt</div>\n",
       "            <div class=\"prompt-container\">\n",
       "                <pre style=\"margin: 0; white-space: pre-wrap;\">Input: I love machine learning and artificial intelligence.\n",
       "Rationale: The key words: love, machine, artificial are crucial clues for predicting positive as the correct answer.\n",
       "Label: positive\n",
       "\n",
       "Input: The scenery here is breathtaking, I’m in awe.\n",
       "Rationale: The key words: âĢ, scenery, breathtaking are crucial clues for predicting positive as the correct answer.\n",
       "Label: positive\n",
       "\n",
       "Input: I absolutely adore the way the sun sets over the horizon.\n",
       "Rationale: The key words: adore, sun, absolutely are crucial clues for predicting positive as the correct answer.\n",
       "Label: positive\n",
       "\n",
       "Input: My experience was amazing; I would happily come back again!\n",
       "Rationale: The key words: amazing, experience, happily are crucial clues for predicting positive as the correct answer.\n",
       "Label: positive\n",
       "\n",
       "Input: She found the gift absolutely delightful.\n",
       "Rationale: The key words: delightful, gift, absolutely are crucial clues for predicting positive as the correct answer.\n",
       "Label: positive</pre>\n",
       "            </div>\n",
       "        </div>\n",
       "        "
      ],
      "text/plain": [
       "<IPython.core.display.HTML object>"
      ]
     },
     "metadata": {},
     "output_type": "display_data"
    }
   ],
   "source": [
    "import sys\n",
    "sys.path.append('..')\n",
    "from incontextlab.src import *\n",
    "\n",
    "\n",
    "# Configure the model\n",
    "config = ModelConfig(\n",
    "    model_name=\"gpt2\",\n",
    "    top_k_demons=5,\n",
    "    top_k_keywords=3,\n",
    "    gradient_method=\"vanilla\"\n",
    ")\n",
    "model = XICLModels(model_name=\"amplify\", config=config)\n",
    "\n",
    "# Prepare demonstration selection pool\n",
    "demonstrations = [\n",
    "    Example(\n",
    "        text=\"I love machine learning and artificial intelligence.\",\n",
    "        labels=[\"positive\"]\n",
    "    ),\n",
    "    Example(\n",
    "        text=\"This is the worst movie I have ever seen.\",\n",
    "        labels=[\"negative\"]\n",
    "    ),\n",
    "    Example(\n",
    "        text=\"What a fantastic day to explore new ideas!\",\n",
    "        labels=[\"positive\"]\n",
    "    ),\n",
    "    Example(\n",
    "        text=\"I absolutely adore the way the sun sets over the horizon.\",\n",
    "        labels=[\"positive\"]\n",
    "    ),\n",
    "    Example(\n",
    "        text=\"The food at that restaurant tasted bland and stale.\",\n",
    "        labels=[\"negative\"]\n",
    "    ),\n",
    "    Example(\n",
    "        text=\"She found the gift absolutely delightful.\",\n",
    "        labels=[\"positive\"]\n",
    "    ),\n",
    "    Example(\n",
    "        text=\"I cant stand the constant delays and poor service.\",\n",
    "        labels=[\"negative\"]\n",
    "    ),\n",
    "    Example(\n",
    "        text=\"The scenery here is breathtaking, I’m in awe.\",\n",
    "        labels=[\"positive\"]\n",
    "    ),\n",
    "    Example(\n",
    "        text=\"He grumbled about the overpriced tickets and uncomfortable seats.\",\n",
    "        labels=[\"negative\"]\n",
    "    ),\n",
    "    Example(\n",
    "        text=\"My experience was amazing; I would happily come back again!\",\n",
    "        labels=[\"positive\"]\n",
    "    )\n",
    "]\n",
    "\n",
    "# Process examples\n",
    "output = model.process_demonstrations(demonstrations)\n",
    "model.visualize_results(output)"
   ]
  },
  {
   "cell_type": "code",
   "execution_count": null,
   "metadata": {},
   "outputs": [
    {
     "data": {
      "application/vnd.plotly.v1+json": {
       "config": {
        "plotlyServerURL": "https://plot.ly"
       },
       "data": [
        {
         "marker": {
          "size": 8
         },
         "mode": "lines+markers",
         "name": "demon2label",
         "type": "scatter",
         "x": [
          1,
          2,
          3,
          4,
          5,
          6,
          7,
          8,
          9,
          10,
          11,
          12
         ],
         "y": [
          0,
          0.6544547616068914,
          0.8334092583555465,
          0.47937505963749394,
          0.7149309032390491,
          0.9839979622497382,
          0.8686197983945892,
          1,
          0.7856745914575763,
          0.6923626261120809,
          0.8617859404189255,
          0.8650704919129908
         ]
        },
        {
         "marker": {
          "size": 8
         },
         "mode": "lines+markers",
         "name": "label2target",
         "type": "scatter",
         "x": [
          1,
          2,
          3,
          4,
          5,
          6,
          7,
          8,
          9,
          10,
          11,
          12
         ],
         "y": [
          0.03556095415938784,
          0.0817876161377751,
          0.01891714469314322,
          0,
          0.011390339432005164,
          1,
          0.324372312866555,
          0.35070172415504,
          0.5110348241549949,
          0.875332713022149,
          0.8255404704448575,
          0.42353826920746857
         ]
        },
        {
         "marker": {
          "size": 8
         },
         "mode": "lines+markers",
         "name": "demon2demon",
         "type": "scatter",
         "x": [
          1,
          2,
          3,
          4,
          5,
          6,
          7,
          8,
          9,
          10,
          11,
          12
         ],
         "y": [
          0,
          0.6558587078644571,
          0.6113118726851247,
          0.6058957901389409,
          0.6559750156752414,
          0.8431894290408428,
          0.8894300219536018,
          1,
          0.9543013945371351,
          0.9645446196739447,
          0.93285257275916,
          0.8462223871463843
         ]
        }
       ],
       "layout": {
        "height": 500,
        "legend": {
         "orientation": "h",
         "x": 0.1,
         "y": 1.1
        },
        "margin": {
         "b": 50,
         "l": 50,
         "r": 50,
         "t": 80
        },
        "template": {
         "data": {
          "bar": [
           {
            "error_x": {
             "color": "#2a3f5f"
            },
            "error_y": {
             "color": "#2a3f5f"
            },
            "marker": {
             "line": {
              "color": "#E5ECF6",
              "width": 0.5
             },
             "pattern": {
              "fillmode": "overlay",
              "size": 10,
              "solidity": 0.2
             }
            },
            "type": "bar"
           }
          ],
          "barpolar": [
           {
            "marker": {
             "line": {
              "color": "#E5ECF6",
              "width": 0.5
             },
             "pattern": {
              "fillmode": "overlay",
              "size": 10,
              "solidity": 0.2
             }
            },
            "type": "barpolar"
           }
          ],
          "carpet": [
           {
            "aaxis": {
             "endlinecolor": "#2a3f5f",
             "gridcolor": "white",
             "linecolor": "white",
             "minorgridcolor": "white",
             "startlinecolor": "#2a3f5f"
            },
            "baxis": {
             "endlinecolor": "#2a3f5f",
             "gridcolor": "white",
             "linecolor": "white",
             "minorgridcolor": "white",
             "startlinecolor": "#2a3f5f"
            },
            "type": "carpet"
           }
          ],
          "choropleth": [
           {
            "colorbar": {
             "outlinewidth": 0,
             "ticks": ""
            },
            "type": "choropleth"
           }
          ],
          "contour": [
           {
            "colorbar": {
             "outlinewidth": 0,
             "ticks": ""
            },
            "colorscale": [
             [
              0,
              "#0d0887"
             ],
             [
              0.1111111111111111,
              "#46039f"
             ],
             [
              0.2222222222222222,
              "#7201a8"
             ],
             [
              0.3333333333333333,
              "#9c179e"
             ],
             [
              0.4444444444444444,
              "#bd3786"
             ],
             [
              0.5555555555555556,
              "#d8576b"
             ],
             [
              0.6666666666666666,
              "#ed7953"
             ],
             [
              0.7777777777777778,
              "#fb9f3a"
             ],
             [
              0.8888888888888888,
              "#fdca26"
             ],
             [
              1,
              "#f0f921"
             ]
            ],
            "type": "contour"
           }
          ],
          "contourcarpet": [
           {
            "colorbar": {
             "outlinewidth": 0,
             "ticks": ""
            },
            "type": "contourcarpet"
           }
          ],
          "heatmap": [
           {
            "colorbar": {
             "outlinewidth": 0,
             "ticks": ""
            },
            "colorscale": [
             [
              0,
              "#0d0887"
             ],
             [
              0.1111111111111111,
              "#46039f"
             ],
             [
              0.2222222222222222,
              "#7201a8"
             ],
             [
              0.3333333333333333,
              "#9c179e"
             ],
             [
              0.4444444444444444,
              "#bd3786"
             ],
             [
              0.5555555555555556,
              "#d8576b"
             ],
             [
              0.6666666666666666,
              "#ed7953"
             ],
             [
              0.7777777777777778,
              "#fb9f3a"
             ],
             [
              0.8888888888888888,
              "#fdca26"
             ],
             [
              1,
              "#f0f921"
             ]
            ],
            "type": "heatmap"
           }
          ],
          "heatmapgl": [
           {
            "colorbar": {
             "outlinewidth": 0,
             "ticks": ""
            },
            "colorscale": [
             [
              0,
              "#0d0887"
             ],
             [
              0.1111111111111111,
              "#46039f"
             ],
             [
              0.2222222222222222,
              "#7201a8"
             ],
             [
              0.3333333333333333,
              "#9c179e"
             ],
             [
              0.4444444444444444,
              "#bd3786"
             ],
             [
              0.5555555555555556,
              "#d8576b"
             ],
             [
              0.6666666666666666,
              "#ed7953"
             ],
             [
              0.7777777777777778,
              "#fb9f3a"
             ],
             [
              0.8888888888888888,
              "#fdca26"
             ],
             [
              1,
              "#f0f921"
             ]
            ],
            "type": "heatmapgl"
           }
          ],
          "histogram": [
           {
            "marker": {
             "pattern": {
              "fillmode": "overlay",
              "size": 10,
              "solidity": 0.2
             }
            },
            "type": "histogram"
           }
          ],
          "histogram2d": [
           {
            "colorbar": {
             "outlinewidth": 0,
             "ticks": ""
            },
            "colorscale": [
             [
              0,
              "#0d0887"
             ],
             [
              0.1111111111111111,
              "#46039f"
             ],
             [
              0.2222222222222222,
              "#7201a8"
             ],
             [
              0.3333333333333333,
              "#9c179e"
             ],
             [
              0.4444444444444444,
              "#bd3786"
             ],
             [
              0.5555555555555556,
              "#d8576b"
             ],
             [
              0.6666666666666666,
              "#ed7953"
             ],
             [
              0.7777777777777778,
              "#fb9f3a"
             ],
             [
              0.8888888888888888,
              "#fdca26"
             ],
             [
              1,
              "#f0f921"
             ]
            ],
            "type": "histogram2d"
           }
          ],
          "histogram2dcontour": [
           {
            "colorbar": {
             "outlinewidth": 0,
             "ticks": ""
            },
            "colorscale": [
             [
              0,
              "#0d0887"
             ],
             [
              0.1111111111111111,
              "#46039f"
             ],
             [
              0.2222222222222222,
              "#7201a8"
             ],
             [
              0.3333333333333333,
              "#9c179e"
             ],
             [
              0.4444444444444444,
              "#bd3786"
             ],
             [
              0.5555555555555556,
              "#d8576b"
             ],
             [
              0.6666666666666666,
              "#ed7953"
             ],
             [
              0.7777777777777778,
              "#fb9f3a"
             ],
             [
              0.8888888888888888,
              "#fdca26"
             ],
             [
              1,
              "#f0f921"
             ]
            ],
            "type": "histogram2dcontour"
           }
          ],
          "mesh3d": [
           {
            "colorbar": {
             "outlinewidth": 0,
             "ticks": ""
            },
            "type": "mesh3d"
           }
          ],
          "parcoords": [
           {
            "line": {
             "colorbar": {
              "outlinewidth": 0,
              "ticks": ""
             }
            },
            "type": "parcoords"
           }
          ],
          "pie": [
           {
            "automargin": true,
            "type": "pie"
           }
          ],
          "scatter": [
           {
            "fillpattern": {
             "fillmode": "overlay",
             "size": 10,
             "solidity": 0.2
            },
            "type": "scatter"
           }
          ],
          "scatter3d": [
           {
            "line": {
             "colorbar": {
              "outlinewidth": 0,
              "ticks": ""
             }
            },
            "marker": {
             "colorbar": {
              "outlinewidth": 0,
              "ticks": ""
             }
            },
            "type": "scatter3d"
           }
          ],
          "scattercarpet": [
           {
            "marker": {
             "colorbar": {
              "outlinewidth": 0,
              "ticks": ""
             }
            },
            "type": "scattercarpet"
           }
          ],
          "scattergeo": [
           {
            "marker": {
             "colorbar": {
              "outlinewidth": 0,
              "ticks": ""
             }
            },
            "type": "scattergeo"
           }
          ],
          "scattergl": [
           {
            "marker": {
             "colorbar": {
              "outlinewidth": 0,
              "ticks": ""
             }
            },
            "type": "scattergl"
           }
          ],
          "scattermapbox": [
           {
            "marker": {
             "colorbar": {
              "outlinewidth": 0,
              "ticks": ""
             }
            },
            "type": "scattermapbox"
           }
          ],
          "scatterpolar": [
           {
            "marker": {
             "colorbar": {
              "outlinewidth": 0,
              "ticks": ""
             }
            },
            "type": "scatterpolar"
           }
          ],
          "scatterpolargl": [
           {
            "marker": {
             "colorbar": {
              "outlinewidth": 0,
              "ticks": ""
             }
            },
            "type": "scatterpolargl"
           }
          ],
          "scatterternary": [
           {
            "marker": {
             "colorbar": {
              "outlinewidth": 0,
              "ticks": ""
             }
            },
            "type": "scatterternary"
           }
          ],
          "surface": [
           {
            "colorbar": {
             "outlinewidth": 0,
             "ticks": ""
            },
            "colorscale": [
             [
              0,
              "#0d0887"
             ],
             [
              0.1111111111111111,
              "#46039f"
             ],
             [
              0.2222222222222222,
              "#7201a8"
             ],
             [
              0.3333333333333333,
              "#9c179e"
             ],
             [
              0.4444444444444444,
              "#bd3786"
             ],
             [
              0.5555555555555556,
              "#d8576b"
             ],
             [
              0.6666666666666666,
              "#ed7953"
             ],
             [
              0.7777777777777778,
              "#fb9f3a"
             ],
             [
              0.8888888888888888,
              "#fdca26"
             ],
             [
              1,
              "#f0f921"
             ]
            ],
            "type": "surface"
           }
          ],
          "table": [
           {
            "cells": {
             "fill": {
              "color": "#EBF0F8"
             },
             "line": {
              "color": "white"
             }
            },
            "header": {
             "fill": {
              "color": "#C8D4E3"
             },
             "line": {
              "color": "white"
             }
            },
            "type": "table"
           }
          ]
         },
         "layout": {
          "annotationdefaults": {
           "arrowcolor": "#2a3f5f",
           "arrowhead": 0,
           "arrowwidth": 1
          },
          "autotypenumbers": "strict",
          "coloraxis": {
           "colorbar": {
            "outlinewidth": 0,
            "ticks": ""
           }
          },
          "colorscale": {
           "diverging": [
            [
             0,
             "#8e0152"
            ],
            [
             0.1,
             "#c51b7d"
            ],
            [
             0.2,
             "#de77ae"
            ],
            [
             0.3,
             "#f1b6da"
            ],
            [
             0.4,
             "#fde0ef"
            ],
            [
             0.5,
             "#f7f7f7"
            ],
            [
             0.6,
             "#e6f5d0"
            ],
            [
             0.7,
             "#b8e186"
            ],
            [
             0.8,
             "#7fbc41"
            ],
            [
             0.9,
             "#4d9221"
            ],
            [
             1,
             "#276419"
            ]
           ],
           "sequential": [
            [
             0,
             "#0d0887"
            ],
            [
             0.1111111111111111,
             "#46039f"
            ],
            [
             0.2222222222222222,
             "#7201a8"
            ],
            [
             0.3333333333333333,
             "#9c179e"
            ],
            [
             0.4444444444444444,
             "#bd3786"
            ],
            [
             0.5555555555555556,
             "#d8576b"
            ],
            [
             0.6666666666666666,
             "#ed7953"
            ],
            [
             0.7777777777777778,
             "#fb9f3a"
            ],
            [
             0.8888888888888888,
             "#fdca26"
            ],
            [
             1,
             "#f0f921"
            ]
           ],
           "sequentialminus": [
            [
             0,
             "#0d0887"
            ],
            [
             0.1111111111111111,
             "#46039f"
            ],
            [
             0.2222222222222222,
             "#7201a8"
            ],
            [
             0.3333333333333333,
             "#9c179e"
            ],
            [
             0.4444444444444444,
             "#bd3786"
            ],
            [
             0.5555555555555556,
             "#d8576b"
            ],
            [
             0.6666666666666666,
             "#ed7953"
            ],
            [
             0.7777777777777778,
             "#fb9f3a"
            ],
            [
             0.8888888888888888,
             "#fdca26"
            ],
            [
             1,
             "#f0f921"
            ]
           ]
          },
          "colorway": [
           "#636efa",
           "#EF553B",
           "#00cc96",
           "#ab63fa",
           "#FFA15A",
           "#19d3f3",
           "#FF6692",
           "#B6E880",
           "#FF97FF",
           "#FECB52"
          ],
          "font": {
           "color": "#2a3f5f"
          },
          "geo": {
           "bgcolor": "white",
           "lakecolor": "white",
           "landcolor": "#E5ECF6",
           "showlakes": true,
           "showland": true,
           "subunitcolor": "white"
          },
          "hoverlabel": {
           "align": "left"
          },
          "hovermode": "closest",
          "mapbox": {
           "style": "light"
          },
          "paper_bgcolor": "white",
          "plot_bgcolor": "#E5ECF6",
          "polar": {
           "angularaxis": {
            "gridcolor": "white",
            "linecolor": "white",
            "ticks": ""
           },
           "bgcolor": "#E5ECF6",
           "radialaxis": {
            "gridcolor": "white",
            "linecolor": "white",
            "ticks": ""
           }
          },
          "scene": {
           "xaxis": {
            "backgroundcolor": "#E5ECF6",
            "gridcolor": "white",
            "gridwidth": 2,
            "linecolor": "white",
            "showbackground": true,
            "ticks": "",
            "zerolinecolor": "white"
           },
           "yaxis": {
            "backgroundcolor": "#E5ECF6",
            "gridcolor": "white",
            "gridwidth": 2,
            "linecolor": "white",
            "showbackground": true,
            "ticks": "",
            "zerolinecolor": "white"
           },
           "zaxis": {
            "backgroundcolor": "#E5ECF6",
            "gridcolor": "white",
            "gridwidth": 2,
            "linecolor": "white",
            "showbackground": true,
            "ticks": "",
            "zerolinecolor": "white"
           }
          },
          "shapedefaults": {
           "line": {
            "color": "#2a3f5f"
           }
          },
          "ternary": {
           "aaxis": {
            "gridcolor": "white",
            "linecolor": "white",
            "ticks": ""
           },
           "baxis": {
            "gridcolor": "white",
            "linecolor": "white",
            "ticks": ""
           },
           "bgcolor": "#E5ECF6",
           "caxis": {
            "gridcolor": "white",
            "linecolor": "white",
            "ticks": ""
           }
          },
          "title": {
           "x": 0.05
          },
          "xaxis": {
           "automargin": true,
           "gridcolor": "white",
           "linecolor": "white",
           "ticks": "",
           "title": {
            "standoff": 15
           },
           "zerolinecolor": "white",
           "zerolinewidth": 2
          },
          "yaxis": {
           "automargin": true,
           "gridcolor": "white",
           "linecolor": "white",
           "ticks": "",
           "title": {
            "standoff": 15
           },
           "zerolinecolor": "white",
           "zerolinewidth": 2
          }
         }
        },
        "title": {
         "text": "Information Flow Across Layers"
        },
        "width": 800,
        "xaxis": {
         "title": {
          "text": "Layer"
         }
        },
        "yaxis": {
         "title": {
          "text": "Flow Strength"
         }
        }
       }
      }
     },
     "metadata": {},
     "output_type": "display_data"
    }
   ],
   "source": [
    "import sys\n",
    "sys.path.append('..')\n",
    "from incontextlab.src import *\n",
    "\n",
    "\n",
    "# Configure the model\n",
    "config = ModelConfig(\n",
    "    model_name=\"gpt2\",\n",
    ")\n",
    "model = XICLModels(model_name=\"information_flow\", config=config)\n",
    "\n",
    "\n",
    "\n",
    "\n",
    "# Create multiple examples\n",
    "demonstrations = [\n",
    "    Example(\n",
    "        text=\"The movie was fantastic, I loved every moment!\",\n",
    "        labels=[\"joy\"],\n",
    "        metadata=Metadata(\n",
    "            task_type=TaskType.CLASSIFICATION,\n",
    "            task_name=\"sentiment\",\n",
    "            demonstration_type=\"Review\",\n",
    "        )\n",
    "    ),\n",
    "    Example(\n",
    "        text=\"I feel so energetic after this workshop\",\n",
    "        labels=[\"joy\"],\n",
    "        metadata=Metadata(\n",
    "            task_type=TaskType.CLASSIFICATION,\n",
    "            task_name=\"sentiment\", \n",
    "            demonstration_type=\"Review\",\n",
    "        )\n",
    "    ),\n",
    "    Example(\n",
    "        text=\"The food was cold and tasteless, I won't be ordering again.\",\n",
    "        labels=[\"disgust\"],\n",
    "        metadata=Metadata(\n",
    "            task_type=TaskType.CLASSIFICATION,\n",
    "            task_name=\"sentiment\",\n",
    "            demonstration_type=\"Review\",\n",
    "        )\n",
    "    ),\n",
    "    Example(\n",
    "        text=\"The presentation was informative and well-delivered.\",\n",
    "        labels=[\"admiration\"],\n",
    "        metadata=Metadata(\n",
    "            task_type=TaskType.CLASSIFICATION,\n",
    "            task_name=\"sentiment\",\n",
    "            demonstration_type=\"Review\",\n",
    "        )\n",
    "    ),\n",
    "\n",
    "]\n",
    "\n",
    "output = model.process_demonstrations(demonstrations)\n",
    "model.visualize_results(output)"
   ]
  },
  {
   "cell_type": "code",
   "execution_count": 1,
   "metadata": {},
   "outputs": [
    {
     "name": "stderr",
     "output_type": "stream",
     "text": [
      "/Users/lihongxuan/miniconda3/envs/icl/lib/python3.10/site-packages/transformers/generation/configuration_utils.py:818: UserWarning: `return_dict_in_generate` is NOT set to `True`, but `output_attentions` is. When `return_dict_in_generate` is not `True`, `output_attentions` is ignored.\n",
      "  warnings.warn(\n",
      "/Users/lihongxuan/miniconda3/envs/icl/lib/python3.10/site-packages/transformers/generation/configuration_utils.py:818: UserWarning: `return_dict_in_generate` is NOT set to `True`, but `output_hidden_states` is. When `return_dict_in_generate` is not `True`, `output_hidden_states` is ignored.\n",
      "  warnings.warn(\n",
      "The new embeddings will be initialized from a multivariate normal distribution that has old embeddings' mean and covariance. As described in this article: https://nlp.stanford.edu/~johnhew/vocab-expansion.html. To disable this, use `mean_resizing=False`\n",
      "`GPT2SdpaAttention` is used but `torch.nn.functional.scaled_dot_product_attention` does not support `output_attentions=True` or `head_mask`. Falling back to the manual attention implementation, but specifying the manual implementation will be required from Transformers version v5.0.0 onwards. This warning can be removed using the argument `attn_implementation=\"eager\"` when loading the model.\n",
      "2024-12-07 21:46:18,913 - incontextlab.src.latent_concept_model - INFO - Step 0, Loss: 6.658087730407715\n",
      "2024-12-07 21:47:44,690 - incontextlab.src.latent_concept_model - INFO - Step 200, Loss: 0.6455606818199158\n",
      "2024-12-07 21:49:30,421 - incontextlab.src.latent_concept_model - INFO - Step 400, Loss: 0.17495545744895935\n",
      "2024-12-07 21:51:16,115 - incontextlab.src.latent_concept_model - INFO - Step 600, Loss: 0.1204691231250763\n",
      "2024-12-07 21:53:03,867 - incontextlab.src.latent_concept_model - INFO - Step 800, Loss: 0.10734068602323532\n"
     ]
    },
    {
     "data": {
      "text/html": [
       "\n",
       "        <div style=\"font-family: Arial, sans-serif; max-width: 900px; margin: 20px auto;\">\n",
       "            <style>\n",
       "                .section-title { font-weight: bold; margin: 10px 0; color: #2c5282; font-size: 20px; }\n",
       "                .demonstration-card { margin: 10px 0; padding: 15px; border-radius: 8px; background-color: #f8f9fa; border: 1px solid #ddd; }\n",
       "                .demonstration-header { font-size: 16px; font-weight: bold; color: #2c5282; margin-bottom: 10px; }\n",
       "                .token-container { margin-top: 10px; display: flex; flex-wrap: wrap; }\n",
       "                .token { display: inline-block; margin: 5px; padding: 5px 8px; border-radius: 4px; font-size: 14px; position: relative; cursor: pointer; background-color: rgb(255, 255, 255); }\n",
       "                .token[data-score] { background-color: rgba(255, 69, 0, calc(var(--score))); color: black; }\n",
       "                .token:hover { background-color: rgba(255, 0, 0, 1); }\n",
       "                .token:hover .tooltip { display: block; }\n",
       "                .tooltip { display: none; position: absolute; top: -30px; left: 50%; transform: translateX(-50%); background-color: #333; color: white; padding: 5px 8px; border-radius: 4px; font-size: 12px; z-index: 10; }\n",
       "            </style>\n",
       "            <div class=\"section-title\">Selected Demonstrations and Token Contributions</div>\n",
       "            <div id=\"demonstration-container\">\n",
       "                \n",
       "                <div class=\"demonstration-card\">\n",
       "                    <div class=\"demonstration-header\">Demonstration Score: 0.380</div>\n",
       "                    <div>\n",
       "                        <b>Token Contributions:</b>\n",
       "                        <div class=\"token-container\">\n",
       "                            \n",
       "                            <div class=\"token\" style=\"--score: 1.0\" data-score=\"1.0\">\n",
       "                                The\n",
       "                                <span class=\"tooltip\">Score: 0.24</span>\n",
       "                            </div>\n",
       "                            \n",
       "                            <div class=\"token\" style=\"--score: 0.8398301413050493\" data-score=\"0.8398301413050493\">\n",
       "                                product\n",
       "                                <span class=\"tooltip\">Score: 0.21</span>\n",
       "                            </div>\n",
       "                            \n",
       "                            <div class=\"token\" style=\"--score: 0.749130008771903\" data-score=\"0.749130008771903\">\n",
       "                                was\n",
       "                                <span class=\"tooltip\">Score: 0.20</span>\n",
       "                            </div>\n",
       "                            \n",
       "                            <div class=\"token\" style=\"--score: 0.6488503638386391\" data-score=\"0.6488503638386391\">\n",
       "                                disappointing\n",
       "                                <span class=\"tooltip\">Score: 0.18</span>\n",
       "                            </div>\n",
       "                            \n",
       "                            <div class=\"token\" style=\"--score: 0.6292355381167236\" data-score=\"0.6292355381167236\">\n",
       "                                .\n",
       "                                <span class=\"tooltip\">Score: 0.17</span>\n",
       "                            </div>\n",
       "                            \n",
       "                        </div>\n",
       "                    </div>\n",
       "                </div>\n",
       "                \n",
       "                <div class=\"demonstration-card\">\n",
       "                    <div class=\"demonstration-header\">Demonstration Score: 0.339</div>\n",
       "                    <div>\n",
       "                        <b>Token Contributions:</b>\n",
       "                        <div class=\"token-container\">\n",
       "                            \n",
       "                            <div class=\"token\" style=\"--score: 1.0\" data-score=\"1.0\">\n",
       "                                The\n",
       "                                <span class=\"tooltip\">Score: 0.24</span>\n",
       "                            </div>\n",
       "                            \n",
       "                            <div class=\"token\" style=\"--score: 0.8431614710746886\" data-score=\"0.8431614710746886\">\n",
       "                                experience\n",
       "                                <span class=\"tooltip\">Score: 0.21</span>\n",
       "                            </div>\n",
       "                            \n",
       "                            <div class=\"token\" style=\"--score: 0.7391522391758201\" data-score=\"0.7391522391758201\">\n",
       "                                exceeded\n",
       "                                <span class=\"tooltip\">Score: 0.19</span>\n",
       "                            </div>\n",
       "                            \n",
       "                            <div class=\"token\" style=\"--score: 0.6491796254511534\" data-score=\"0.6491796254511534\">\n",
       "                                expectations\n",
       "                                <span class=\"tooltip\">Score: 0.18</span>\n",
       "                            </div>\n",
       "                            \n",
       "                            <div class=\"token\" style=\"--score: 0.6466964358358391\" data-score=\"0.6466964358358391\">\n",
       "                                .\n",
       "                                <span class=\"tooltip\">Score: 0.18</span>\n",
       "                            </div>\n",
       "                            \n",
       "                        </div>\n",
       "                    </div>\n",
       "                </div>\n",
       "                \n",
       "                <div class=\"demonstration-card\">\n",
       "                    <div class=\"demonstration-header\">Demonstration Score: 0.281</div>\n",
       "                    <div>\n",
       "                        <b>Token Contributions:</b>\n",
       "                        <div class=\"token-container\">\n",
       "                            \n",
       "                            <div class=\"token\" style=\"--score: 1.0\" data-score=\"1.0\">\n",
       "                                The\n",
       "                                <span class=\"tooltip\">Score: 0.24</span>\n",
       "                            </div>\n",
       "                            \n",
       "                            <div class=\"token\" style=\"--score: 0.8432574714784917\" data-score=\"0.8432574714784917\">\n",
       "                                concert\n",
       "                                <span class=\"tooltip\">Score: 0.22</span>\n",
       "                            </div>\n",
       "                            \n",
       "                            <div class=\"token\" style=\"--score: 0.7311299581095729\" data-score=\"0.7311299581095729\">\n",
       "                                was\n",
       "                                <span class=\"tooltip\">Score: 0.20</span>\n",
       "                            </div>\n",
       "                            \n",
       "                            <div class=\"token\" style=\"--score: 0.6298687097790598\" data-score=\"0.6298687097790598\">\n",
       "                                spectacular\n",
       "                                <span class=\"tooltip\">Score: 0.18</span>\n",
       "                            </div>\n",
       "                            \n",
       "                            <div class=\"token\" style=\"--score: 0.6057833423995498\" data-score=\"0.6057833423995498\">\n",
       "                                .\n",
       "                                <span class=\"tooltip\">Score: 0.17</span>\n",
       "                            </div>\n",
       "                            \n",
       "                        </div>\n",
       "                    </div>\n",
       "                </div>\n",
       "                \n",
       "            </div>\n",
       "        </div>\n",
       "        "
      ],
      "text/plain": [
       "<IPython.core.display.HTML object>"
      ]
     },
     "metadata": {},
     "output_type": "display_data"
    }
   ],
   "source": [
    "import sys\n",
    "sys.path.append('..')\n",
    "from incontextlab.src import *\n",
    "\n",
    "\n",
    "# Configure the model\n",
    "config = ModelConfig(\n",
    "    model_name=\"gpt2\",\n",
    "    concept_train_steps=1000,  # Increased from 1 to allow proper training\n",
    "    concept_learning_rate=1e-4,  # Adjusted for stability\n",
    "    concept_batch_size=4,\n",
    "    top_k_demons=3\n",
    ")\n",
    "\n",
    "# Configure model with more realistic parameters\n",
    "model = XICLModels(model_name=\"latent_concept\", config=config)\n",
    "\n",
    "\n",
    "# Create a more complete set of examples with proper splits\n",
    "train_demonstrations = [\n",
    "    # Training examples\n",
    "    Example(\n",
    "        text=\"The movie was fantastic and entertaining.\",\n",
    "        labels=[\"positive\"],\n",
    "        metadata=Metadata(task_type=TaskType.CLASSIFICATION, task_name=\"sentiment\", split=\"train\")\n",
    "    ),\n",
    "    Example(\n",
    "        text=\"The service was terrible, would not recommend.\",\n",
    "        labels=[\"negative\"],\n",
    "        metadata=Metadata(task_type=TaskType.CLASSIFICATION, task_name=\"sentiment\", split=\"train\")\n",
    "    ),\n",
    "    Example(\n",
    "        text=\"The food was amazing and delicious.\",\n",
    "        labels=[\"positive\"],\n",
    "        metadata=Metadata(task_type=TaskType.CLASSIFICATION, task_name=\"sentiment\", split=\"train\")\n",
    "    )]\n",
    "\n",
    "\n",
    "demonstrations_pool = [\n",
    "    # Demonstration pool examples\n",
    "    Example(\n",
    "        text=\"The concert was spectacular.\",\n",
    "        labels=[\"positive\"],\n",
    "        metadata=Metadata(task_type=TaskType.CLASSIFICATION, task_name=\"sentiment\", split=\"demonstration_pool\")\n",
    "    ),\n",
    "    Example(\n",
    "        text=\"The product was disappointing.\",\n",
    "        labels=[\"negative\"],\n",
    "        metadata=Metadata(task_type=TaskType.CLASSIFICATION, task_name=\"sentiment\", split=\"demonstration_pool\")\n",
    "    ),\n",
    "    Example(\n",
    "        text=\"The experience exceeded expectations.\",\n",
    "        labels=[\"positive\"], \n",
    "        metadata=Metadata(task_type=TaskType.CLASSIFICATION, task_name=\"sentiment\", split=\"demonstration_pool\")\n",
    "    ),]\n",
    "\n",
    "test_demonstration = [\n",
    "    # Test examples\n",
    "    Example(\n",
    "        text=\"The movie was great.\",\n",
    "        labels=[\"positive\"],\n",
    "        metadata=Metadata(task_type=TaskType.CLASSIFICATION, task_name=\"sentiment\", split=\"test\")\n",
    "    )\n",
    "]\n",
    "\n",
    "demonstrations = train_demonstrations + demonstrations_pool + test_demonstration\n",
    "\n",
    "\n",
    "output = model.process_demonstrations(demonstrations)\n",
    "model.visualize_results(output)"
   ]
  },
  {
   "cell_type": "code",
   "execution_count": 1,
   "metadata": {},
   "outputs": [
    {
     "name": "stderr",
     "output_type": "stream",
     "text": [
      "/Users/lihongxuan/miniconda3/envs/icl/lib/python3.10/site-packages/transformers/generation/configuration_utils.py:818: UserWarning: `return_dict_in_generate` is NOT set to `True`, but `output_attentions` is. When `return_dict_in_generate` is not `True`, `output_attentions` is ignored.\n",
      "  warnings.warn(\n",
      "`GPT2SdpaAttention` is used but `torch.nn.functional.scaled_dot_product_attention` does not support `output_attentions=True` or `head_mask`. Falling back to the manual attention implementation, but specifying the manual implementation will be required from Transformers version v5.0.0 onwards. This warning can be removed using the argument `attn_implementation=\"eager\"` when loading the model.\n",
      "/Users/lihongxuan/Desktop/InContextLab/exmaples/../incontextlab/src/semantic_head_model.py:179: UserWarning: The use of `x.T` on tensors of dimension other than 2 to reverse their shape is deprecated and it will throw an error in a future release. Consider `x.mT` to transpose batches of matrices or `x.permute(*torch.arange(x.ndim - 1, -1, -1))` to reverse the dimensions of a tensor. (Triggered internally at /Users/runner/work/_temp/anaconda/conda-bld/pytorch_1729647065806/work/aten/src/ATen/native/TensorShape.cpp:3687.)\n",
      "  ov_influence = torch.matmul(vocab_matrix, ov_circuits[layer_idx][head_idx].T)\n"
     ]
    },
    {
     "data": {
      "application/vnd.plotly.v1+json": {
       "config": {
        "plotlyServerURL": "https://plot.ly"
       },
       "data": [
        {
         "colorscale": [
          [
           0,
           "rgb(247,251,255)"
          ],
          [
           0.125,
           "rgb(222,235,247)"
          ],
          [
           0.25,
           "rgb(198,219,239)"
          ],
          [
           0.375,
           "rgb(158,202,225)"
          ],
          [
           0.5,
           "rgb(107,174,214)"
          ],
          [
           0.625,
           "rgb(66,146,198)"
          ],
          [
           0.75,
           "rgb(33,113,181)"
          ],
          [
           0.875,
           "rgb(8,81,156)"
          ],
          [
           1,
           "rgb(8,48,107)"
          ]
         ],
         "showscale": true,
         "type": "heatmap",
         "z": [
          [
           0.5736212945510714,
           0.628622893436747,
           0.28310412484884273,
           0.5621792629868728,
           0.5318374051267294,
           0.558557979962224,
           0.07568197468032666,
           0.5569509179721631,
           0.3815961848885436,
           0.5996114089478499,
           0.7113846746185185,
           0.5553164236989633
          ],
          [
           0.5608768881377921,
           0.5663460189477715,
           0.5890415135377979,
           0.6110368389392483,
           0.5210673011736702,
           0.4227348736505916,
           0.732713827620376,
           0.5395992681575974,
           0.532055208703506,
           0.555102363291908,
           0.5641801857397716,
           0.5890003623991101
          ],
          [
           0.5733419307350348,
           0.6789414284827499,
           0.5569047561775508,
           0.5579994341286979,
           0.5737184611452415,
           0.5620455677524809,
           0.5663070560372473,
           0.514947560212505,
           0.5647381386536617,
           0.6916190417670697,
           0.526808965648935,
           0.5186444266657021
          ],
          [
           0.5628331991876393,
           0.5505975824114727,
           0.5610932646851269,
           0.5631146608031742,
           0.5517846885394263,
           0.5811649169801392,
           0.548379210803598,
           0.5905173497176708,
           0.556962621344822,
           0.6113296316909249,
           0.5221454385855492,
           0.534249686743405
          ],
          [
           0.5583477772544646,
           0.5636652235797305,
           0.5703537899506849,
           0.5820125382579278,
           0.5994378051515173,
           0.5675770823988723,
           0.6035767330653036,
           0.6140254655741855,
           0.5410033868138014,
           0.5586547346503153,
           0.5490926058652914,
           0.5601468390073483
          ],
          [
           0.5604784630144536,
           0.5601468390073483,
           0.5312425339230267,
           0.6139571253512413,
           0.5580941718698714,
           0.5589520860677267,
           0.5532628812878108,
           0.6167823959484565,
           0.5651627404134457,
           0.6187688565609832,
           0.6295567170453744,
           0.5408920719429872
          ],
          [
           0.5617414459437332,
           0.5213005548087105,
           0.546741376915303,
           0.5382123778961224,
           0.5817888230523707,
           0.5760216634575855,
           0.5586532790132684,
           0.5553665270637503,
           0.5214297684113838,
           0.5605010241723047,
           0.5602700541192558,
           0.5496617072922038
          ],
          [
           0.5590977726374927,
           0.5662607154665908,
           0.5606499309568345,
           0.5745104920441921,
           0.5374983044673872,
           0.5568072652988298,
           0.5650617716944668,
           0.5713651829299442,
           0.5497856180947109,
           0.544216318365794,
           0.5589661929333818,
           0.5775871294890775
          ],
          [
           0.5748657306276602,
           0.5552444780720551,
           0.5283727628970908,
           0.5209898704071768,
           0.5703092987570042,
           0.556864151386106,
           0.47421631778797935,
           0.5578190281149553,
           0.5853283029169825,
           0.5331830208610225,
           0.5843826171411237,
           0.5312988665516689
          ],
          [
           0.5683271850170203,
           0.5580684162944455,
           0.5625598866250943,
           0.5735902673569304,
           0.5605918746102284,
           0.5672385272753118,
           0.5630645636161432,
           0.5539649296974624,
           0.5606395706356785,
           0.5529282788216342,
           0.5593527645803835,
           0.5586582334834251
          ],
          [
           0.5452163729137315,
           0.5548504606563328,
           0.5637761347792518,
           0.5596681870673236,
           0.5590664438347913,
           0.5665604413556492,
           0.5548580643794812,
           0.5719910186899239,
           0.5583584322018116,
           0.5630226685019876,
           0.5390593783623622,
           0.5564992119335029
          ],
          [
           0.720578026911731,
           0.6044427226378379,
           0.5956952898523152,
           0.6307954970096095,
           0.5234633791843022,
           0.5771460178208276,
           0.545788877023082,
           0.526543347615187,
           0.8018496296230985,
           0.553331973893881,
           0.5247554225782461,
           0.4970348504504366
          ]
         ]
        }
       ],
       "layout": {
        "height": 600,
        "template": {
         "data": {
          "bar": [
           {
            "error_x": {
             "color": "#2a3f5f"
            },
            "error_y": {
             "color": "#2a3f5f"
            },
            "marker": {
             "line": {
              "color": "#E5ECF6",
              "width": 0.5
             },
             "pattern": {
              "fillmode": "overlay",
              "size": 10,
              "solidity": 0.2
             }
            },
            "type": "bar"
           }
          ],
          "barpolar": [
           {
            "marker": {
             "line": {
              "color": "#E5ECF6",
              "width": 0.5
             },
             "pattern": {
              "fillmode": "overlay",
              "size": 10,
              "solidity": 0.2
             }
            },
            "type": "barpolar"
           }
          ],
          "carpet": [
           {
            "aaxis": {
             "endlinecolor": "#2a3f5f",
             "gridcolor": "white",
             "linecolor": "white",
             "minorgridcolor": "white",
             "startlinecolor": "#2a3f5f"
            },
            "baxis": {
             "endlinecolor": "#2a3f5f",
             "gridcolor": "white",
             "linecolor": "white",
             "minorgridcolor": "white",
             "startlinecolor": "#2a3f5f"
            },
            "type": "carpet"
           }
          ],
          "choropleth": [
           {
            "colorbar": {
             "outlinewidth": 0,
             "ticks": ""
            },
            "type": "choropleth"
           }
          ],
          "contour": [
           {
            "colorbar": {
             "outlinewidth": 0,
             "ticks": ""
            },
            "colorscale": [
             [
              0,
              "#0d0887"
             ],
             [
              0.1111111111111111,
              "#46039f"
             ],
             [
              0.2222222222222222,
              "#7201a8"
             ],
             [
              0.3333333333333333,
              "#9c179e"
             ],
             [
              0.4444444444444444,
              "#bd3786"
             ],
             [
              0.5555555555555556,
              "#d8576b"
             ],
             [
              0.6666666666666666,
              "#ed7953"
             ],
             [
              0.7777777777777778,
              "#fb9f3a"
             ],
             [
              0.8888888888888888,
              "#fdca26"
             ],
             [
              1,
              "#f0f921"
             ]
            ],
            "type": "contour"
           }
          ],
          "contourcarpet": [
           {
            "colorbar": {
             "outlinewidth": 0,
             "ticks": ""
            },
            "type": "contourcarpet"
           }
          ],
          "heatmap": [
           {
            "colorbar": {
             "outlinewidth": 0,
             "ticks": ""
            },
            "colorscale": [
             [
              0,
              "#0d0887"
             ],
             [
              0.1111111111111111,
              "#46039f"
             ],
             [
              0.2222222222222222,
              "#7201a8"
             ],
             [
              0.3333333333333333,
              "#9c179e"
             ],
             [
              0.4444444444444444,
              "#bd3786"
             ],
             [
              0.5555555555555556,
              "#d8576b"
             ],
             [
              0.6666666666666666,
              "#ed7953"
             ],
             [
              0.7777777777777778,
              "#fb9f3a"
             ],
             [
              0.8888888888888888,
              "#fdca26"
             ],
             [
              1,
              "#f0f921"
             ]
            ],
            "type": "heatmap"
           }
          ],
          "heatmapgl": [
           {
            "colorbar": {
             "outlinewidth": 0,
             "ticks": ""
            },
            "colorscale": [
             [
              0,
              "#0d0887"
             ],
             [
              0.1111111111111111,
              "#46039f"
             ],
             [
              0.2222222222222222,
              "#7201a8"
             ],
             [
              0.3333333333333333,
              "#9c179e"
             ],
             [
              0.4444444444444444,
              "#bd3786"
             ],
             [
              0.5555555555555556,
              "#d8576b"
             ],
             [
              0.6666666666666666,
              "#ed7953"
             ],
             [
              0.7777777777777778,
              "#fb9f3a"
             ],
             [
              0.8888888888888888,
              "#fdca26"
             ],
             [
              1,
              "#f0f921"
             ]
            ],
            "type": "heatmapgl"
           }
          ],
          "histogram": [
           {
            "marker": {
             "pattern": {
              "fillmode": "overlay",
              "size": 10,
              "solidity": 0.2
             }
            },
            "type": "histogram"
           }
          ],
          "histogram2d": [
           {
            "colorbar": {
             "outlinewidth": 0,
             "ticks": ""
            },
            "colorscale": [
             [
              0,
              "#0d0887"
             ],
             [
              0.1111111111111111,
              "#46039f"
             ],
             [
              0.2222222222222222,
              "#7201a8"
             ],
             [
              0.3333333333333333,
              "#9c179e"
             ],
             [
              0.4444444444444444,
              "#bd3786"
             ],
             [
              0.5555555555555556,
              "#d8576b"
             ],
             [
              0.6666666666666666,
              "#ed7953"
             ],
             [
              0.7777777777777778,
              "#fb9f3a"
             ],
             [
              0.8888888888888888,
              "#fdca26"
             ],
             [
              1,
              "#f0f921"
             ]
            ],
            "type": "histogram2d"
           }
          ],
          "histogram2dcontour": [
           {
            "colorbar": {
             "outlinewidth": 0,
             "ticks": ""
            },
            "colorscale": [
             [
              0,
              "#0d0887"
             ],
             [
              0.1111111111111111,
              "#46039f"
             ],
             [
              0.2222222222222222,
              "#7201a8"
             ],
             [
              0.3333333333333333,
              "#9c179e"
             ],
             [
              0.4444444444444444,
              "#bd3786"
             ],
             [
              0.5555555555555556,
              "#d8576b"
             ],
             [
              0.6666666666666666,
              "#ed7953"
             ],
             [
              0.7777777777777778,
              "#fb9f3a"
             ],
             [
              0.8888888888888888,
              "#fdca26"
             ],
             [
              1,
              "#f0f921"
             ]
            ],
            "type": "histogram2dcontour"
           }
          ],
          "mesh3d": [
           {
            "colorbar": {
             "outlinewidth": 0,
             "ticks": ""
            },
            "type": "mesh3d"
           }
          ],
          "parcoords": [
           {
            "line": {
             "colorbar": {
              "outlinewidth": 0,
              "ticks": ""
             }
            },
            "type": "parcoords"
           }
          ],
          "pie": [
           {
            "automargin": true,
            "type": "pie"
           }
          ],
          "scatter": [
           {
            "fillpattern": {
             "fillmode": "overlay",
             "size": 10,
             "solidity": 0.2
            },
            "type": "scatter"
           }
          ],
          "scatter3d": [
           {
            "line": {
             "colorbar": {
              "outlinewidth": 0,
              "ticks": ""
             }
            },
            "marker": {
             "colorbar": {
              "outlinewidth": 0,
              "ticks": ""
             }
            },
            "type": "scatter3d"
           }
          ],
          "scattercarpet": [
           {
            "marker": {
             "colorbar": {
              "outlinewidth": 0,
              "ticks": ""
             }
            },
            "type": "scattercarpet"
           }
          ],
          "scattergeo": [
           {
            "marker": {
             "colorbar": {
              "outlinewidth": 0,
              "ticks": ""
             }
            },
            "type": "scattergeo"
           }
          ],
          "scattergl": [
           {
            "marker": {
             "colorbar": {
              "outlinewidth": 0,
              "ticks": ""
             }
            },
            "type": "scattergl"
           }
          ],
          "scattermapbox": [
           {
            "marker": {
             "colorbar": {
              "outlinewidth": 0,
              "ticks": ""
             }
            },
            "type": "scattermapbox"
           }
          ],
          "scatterpolar": [
           {
            "marker": {
             "colorbar": {
              "outlinewidth": 0,
              "ticks": ""
             }
            },
            "type": "scatterpolar"
           }
          ],
          "scatterpolargl": [
           {
            "marker": {
             "colorbar": {
              "outlinewidth": 0,
              "ticks": ""
             }
            },
            "type": "scatterpolargl"
           }
          ],
          "scatterternary": [
           {
            "marker": {
             "colorbar": {
              "outlinewidth": 0,
              "ticks": ""
             }
            },
            "type": "scatterternary"
           }
          ],
          "surface": [
           {
            "colorbar": {
             "outlinewidth": 0,
             "ticks": ""
            },
            "colorscale": [
             [
              0,
              "#0d0887"
             ],
             [
              0.1111111111111111,
              "#46039f"
             ],
             [
              0.2222222222222222,
              "#7201a8"
             ],
             [
              0.3333333333333333,
              "#9c179e"
             ],
             [
              0.4444444444444444,
              "#bd3786"
             ],
             [
              0.5555555555555556,
              "#d8576b"
             ],
             [
              0.6666666666666666,
              "#ed7953"
             ],
             [
              0.7777777777777778,
              "#fb9f3a"
             ],
             [
              0.8888888888888888,
              "#fdca26"
             ],
             [
              1,
              "#f0f921"
             ]
            ],
            "type": "surface"
           }
          ],
          "table": [
           {
            "cells": {
             "fill": {
              "color": "#EBF0F8"
             },
             "line": {
              "color": "white"
             }
            },
            "header": {
             "fill": {
              "color": "#C8D4E3"
             },
             "line": {
              "color": "white"
             }
            },
            "type": "table"
           }
          ]
         },
         "layout": {
          "annotationdefaults": {
           "arrowcolor": "#2a3f5f",
           "arrowhead": 0,
           "arrowwidth": 1
          },
          "autotypenumbers": "strict",
          "coloraxis": {
           "colorbar": {
            "outlinewidth": 0,
            "ticks": ""
           }
          },
          "colorscale": {
           "diverging": [
            [
             0,
             "#8e0152"
            ],
            [
             0.1,
             "#c51b7d"
            ],
            [
             0.2,
             "#de77ae"
            ],
            [
             0.3,
             "#f1b6da"
            ],
            [
             0.4,
             "#fde0ef"
            ],
            [
             0.5,
             "#f7f7f7"
            ],
            [
             0.6,
             "#e6f5d0"
            ],
            [
             0.7,
             "#b8e186"
            ],
            [
             0.8,
             "#7fbc41"
            ],
            [
             0.9,
             "#4d9221"
            ],
            [
             1,
             "#276419"
            ]
           ],
           "sequential": [
            [
             0,
             "#0d0887"
            ],
            [
             0.1111111111111111,
             "#46039f"
            ],
            [
             0.2222222222222222,
             "#7201a8"
            ],
            [
             0.3333333333333333,
             "#9c179e"
            ],
            [
             0.4444444444444444,
             "#bd3786"
            ],
            [
             0.5555555555555556,
             "#d8576b"
            ],
            [
             0.6666666666666666,
             "#ed7953"
            ],
            [
             0.7777777777777778,
             "#fb9f3a"
            ],
            [
             0.8888888888888888,
             "#fdca26"
            ],
            [
             1,
             "#f0f921"
            ]
           ],
           "sequentialminus": [
            [
             0,
             "#0d0887"
            ],
            [
             0.1111111111111111,
             "#46039f"
            ],
            [
             0.2222222222222222,
             "#7201a8"
            ],
            [
             0.3333333333333333,
             "#9c179e"
            ],
            [
             0.4444444444444444,
             "#bd3786"
            ],
            [
             0.5555555555555556,
             "#d8576b"
            ],
            [
             0.6666666666666666,
             "#ed7953"
            ],
            [
             0.7777777777777778,
             "#fb9f3a"
            ],
            [
             0.8888888888888888,
             "#fdca26"
            ],
            [
             1,
             "#f0f921"
            ]
           ]
          },
          "colorway": [
           "#636efa",
           "#EF553B",
           "#00cc96",
           "#ab63fa",
           "#FFA15A",
           "#19d3f3",
           "#FF6692",
           "#B6E880",
           "#FF97FF",
           "#FECB52"
          ],
          "font": {
           "color": "#2a3f5f"
          },
          "geo": {
           "bgcolor": "white",
           "lakecolor": "white",
           "landcolor": "#E5ECF6",
           "showlakes": true,
           "showland": true,
           "subunitcolor": "white"
          },
          "hoverlabel": {
           "align": "left"
          },
          "hovermode": "closest",
          "mapbox": {
           "style": "light"
          },
          "paper_bgcolor": "white",
          "plot_bgcolor": "#E5ECF6",
          "polar": {
           "angularaxis": {
            "gridcolor": "white",
            "linecolor": "white",
            "ticks": ""
           },
           "bgcolor": "#E5ECF6",
           "radialaxis": {
            "gridcolor": "white",
            "linecolor": "white",
            "ticks": ""
           }
          },
          "scene": {
           "xaxis": {
            "backgroundcolor": "#E5ECF6",
            "gridcolor": "white",
            "gridwidth": 2,
            "linecolor": "white",
            "showbackground": true,
            "ticks": "",
            "zerolinecolor": "white"
           },
           "yaxis": {
            "backgroundcolor": "#E5ECF6",
            "gridcolor": "white",
            "gridwidth": 2,
            "linecolor": "white",
            "showbackground": true,
            "ticks": "",
            "zerolinecolor": "white"
           },
           "zaxis": {
            "backgroundcolor": "#E5ECF6",
            "gridcolor": "white",
            "gridwidth": 2,
            "linecolor": "white",
            "showbackground": true,
            "ticks": "",
            "zerolinecolor": "white"
           }
          },
          "shapedefaults": {
           "line": {
            "color": "#2a3f5f"
           }
          },
          "ternary": {
           "aaxis": {
            "gridcolor": "white",
            "linecolor": "white",
            "ticks": ""
           },
           "baxis": {
            "gridcolor": "white",
            "linecolor": "white",
            "ticks": ""
           },
           "bgcolor": "#E5ECF6",
           "caxis": {
            "gridcolor": "white",
            "linecolor": "white",
            "ticks": ""
           }
          },
          "title": {
           "x": 0.05
          },
          "xaxis": {
           "automargin": true,
           "gridcolor": "white",
           "linecolor": "white",
           "ticks": "",
           "title": {
            "standoff": 15
           },
           "zerolinecolor": "white",
           "zerolinewidth": 2
          },
          "yaxis": {
           "automargin": true,
           "gridcolor": "white",
           "linecolor": "white",
           "ticks": "",
           "title": {
            "standoff": 15
           },
           "zerolinecolor": "white",
           "zerolinewidth": 2
          }
         }
        },
        "title": {
         "text": "Semantic Head Analysis - Relation Indices"
        },
        "width": 800,
        "xaxis": {
         "side": "bottom",
         "title": {
          "text": "Attention Heads"
         }
        },
        "yaxis": {
         "autorange": "reversed",
         "title": {
          "text": "Layers"
         }
        }
       }
      }
     },
     "metadata": {},
     "output_type": "display_data"
    }
   ],
   "source": [
    "import sys\n",
    "sys.path.append('..')\n",
    "from incontextlab.src import *\n",
    "\n",
    "\n",
    "# Configure the model\n",
    "config = ModelConfig(\n",
    "    model_name=\"gpt2\",\n",
    ")\n",
    "# Configure model with more realistic parameters\n",
    "model = XICLModels(model_name=\"semantic_head\", config=config)\n",
    "\n",
    "demonstrations = [\n",
    "    Example(\n",
    "        text=\"The pen is part of the writing tool kit.\",\n",
    "        labels=[(\"pen\", \"Part-of\", \"writing tool kit\")],\n",
    "        metadata=Metadata(task_type=TaskType.RELATION_EXTRACTION)\n",
    "    ),\n",
    "    Example(\n",
    "        text=\"A car is a hyponym of a vehicle.\",\n",
    "        labels=[(\"car\", \"Hyponym-of\", \"vehicle\")],\n",
    "        metadata=Metadata(task_type=TaskType.RELATION_EXTRACTION)\n",
    "    ),\n",
    "    Example(\n",
    "        text=\"A laptop is used for coding.\",\n",
    "        labels=[(\"laptop\", \"Used-for\", \"coding\")],\n",
    "        metadata=Metadata(task_type=TaskType.RELATION_EXTRACTION)\n",
    "    ),\n",
    "    Example(\n",
    "        text=\"The painting is a feature of the gallery.\",\n",
    "        labels=[(\"painting\", \"Feature-of\", \"gallery\")],\n",
    "        metadata=Metadata(task_type=TaskType.RELATION_EXTRACTION)\n",
    "    ),\n",
    "    Example(\n",
    "        text=\"A smartphone is evaluated for its battery life.\",\n",
    "        labels=[(\"smartphone\", \"Evaluate-for\", \"battery life\")],\n",
    "        metadata=Metadata(task_type=TaskType.RELATION_EXTRACTION)\n",
    "    ),\n",
    "    Example(\n",
    "        text=\"The apple is in conjunction with the orange.\",\n",
    "        labels=[(\"apple\", \"Conjunction\", \"orange\")],\n",
    "        metadata=Metadata(task_type=TaskType.RELATION_EXTRACTION)\n",
    "    ),\n",
    "    Example(\n",
    "        text=\"A cat is often compared to a dog.\",\n",
    "        labels=[(\"cat\", \"Compare\", \"dog\")],\n",
    "        metadata=Metadata(task_type=TaskType.RELATION_EXTRACTION)\n",
    "    )\n",
    "]\n",
    "\n",
    "output = model.process_demonstrations(demonstrations)\n",
    "model.visualize_results(output)\n"
   ]
  }
 ],
 "metadata": {
  "kernelspec": {
   "display_name": "icl",
   "language": "python",
   "name": "python3"
  },
  "language_info": {
   "codemirror_mode": {
    "name": "ipython",
    "version": 3
   },
   "file_extension": ".py",
   "mimetype": "text/x-python",
   "name": "python",
   "nbconvert_exporter": "python",
   "pygments_lexer": "ipython3",
   "version": "3.10.15"
  }
 },
 "nbformat": 4,
 "nbformat_minor": 2
}
